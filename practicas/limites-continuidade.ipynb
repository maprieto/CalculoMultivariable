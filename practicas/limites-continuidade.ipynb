{
  "cells": [
    {
      "metadata": {},
      "cell_type": "markdown",
      "source": "# Límites e continuidade\n\nAdemais de representar graficamente funcións dunha ou varias variables, o módulo **Sympy** pode empregarse para obter as singularidades dunha función, o seu dominio e tamén o seu rango. Como veremos nesta práctica, tamén poderemos calcular límites nunha ou en varias variables, e comprobar se unha función é continua nun punto dado. Nesta práctica revisaremos as funcións básicas para poder facer este tipo de cálculos.\n\n### Obxectivos:\n\n- Diferenciar unha expresión dunha función en Sympy\n- Definir funcións definidas a cachos\n- Explorar o dominio, singularidades e rango dunha función\n- Cálculo de límites nunha e varias variables\n- Análise da continuidade dunha función"
    },
    {
      "metadata": {},
      "cell_type": "markdown",
      "source": "Para dispoñer do módulo **Sympy** e importalo para o resto do guión de prácticas, usaremos:"
    },
    {
      "metadata": {
        "trusted": true
      },
      "cell_type": "code",
      "source": "import sympy as sp",
      "execution_count": 1,
      "outputs": []
    },
    {
      "metadata": {},
      "cell_type": "markdown",
      "source": "## Expresións e funcións en **Sympy**\nAta o de agora, nas prácticas anteriores estivemos a traballar con expresións matemáticas que se gardaban en obxectos do módulo **Sympy**. Nembargantes, aínda non tiñamos usado funcións. Para ver as diferencias entre unha expresión e a súa función asociada imos a ilustrar como avaliar funcións e expresións en **Sympy** cun exemplo: a función $F:(x,y)\\to x(2x+y)$ e a expresión $f=x(2x+y)$:"
    },
    {
      "metadata": {
        "trusted": true
      },
      "cell_type": "code",
      "source": "x, y = sp.symbols('x y', real=True) # define as variables simbólicas x e y\nf = x*(2*x+y) # Isto é unha expresión\ndisplay(f)\nprint('Valor de f(2,1)=',f.subs({x:2,y:1})) # Avaliar a expresión f usando \"subs\"",
      "execution_count": 3,
      "outputs": [
        {
          "output_type": "display_data",
          "data": {
            "text/latex": "$\\displaystyle x \\left(2 x + y\\right)$",
            "text/plain": "x*(2*x + y)"
          },
          "metadata": {}
        },
        {
          "output_type": "stream",
          "text": "Valor de f(2,1)= 10\n",
          "name": "stdout"
        }
      ]
    },
    {
      "metadata": {},
      "cell_type": "markdown",
      "source": "No caso das funcións, a avaliación é moito máis sinxela xa que esta se realizaría como se fose unha función máis como o seno, coseno, exponencial, etc. Para empregar funcións en **Sympy**, débese empregar a función `sp.Lambda`:"
    },
    {
      "metadata": {
        "trusted": true
      },
      "cell_type": "code",
      "source": "F = sp.Lambda((x,y),f) # Isto é unha función Lambda\ndisplay(F)\nprint('Valor de F(2,1)=',F(2,1)) # Avaliación da función mediante os seus argumentos\nprint(F(x,y)==f)",
      "execution_count": 3,
      "outputs": [
        {
          "output_type": "display_data",
          "data": {
            "text/latex": "$\\displaystyle \\left( \\left( x, \\  y\\right) \\mapsto x \\left(2 x + y\\right) \\right)$",
            "text/plain": "Lambda((x, y), x*(2*x + y))"
          },
          "metadata": {}
        },
        {
          "output_type": "stream",
          "text": "Valor de F(2,1)= 10\nTrue\n",
          "name": "stdout"
        }
      ]
    },
    {
      "metadata": {},
      "cell_type": "markdown",
      "source": "As funcións tamén se poden vir dadas por expresións que están **definidas a cachos**, tendo en conta distintas expresións que serán avaliadas se se cumpren certas condicións. O módulo **Sympy** irá avaliando cada unha das tuplas que aparecen como argumentos (de esquerda a dereita) ata que atope unha no que a condición sexa certa. Por exemplo:"
    },
    {
      "metadata": {
        "trusted": true
      },
      "cell_type": "code",
      "source": "f = sp.Piecewise((1/(x*y), (x>0) & (y>0)),(1, x<0), (0, True))\nF = sp.Lambda((x,y), f)\ndisplay(F)",
      "execution_count": 4,
      "outputs": [
        {
          "output_type": "display_data",
          "data": {
            "text/latex": "$\\displaystyle \\left( \\left( x, \\  y\\right) \\mapsto \\begin{cases} \\frac{1}{x y} & \\text{for}\\: x > 0 \\wedge y > 0 \\\\1 & \\text{for}\\: x < 0 \\\\0 & \\text{otherwise} \\end{cases} \\right)$",
            "text/plain": "Lambda((x, y), Piecewise((1/(x*y), (x > 0) & (y > 0)), (1, x < 0), (0, True)))"
          },
          "metadata": {}
        }
      ]
    },
    {
      "metadata": {},
      "cell_type": "markdown",
      "source": "## Dominio e rango dunha función de varias variables\nPara calcular o dominio dunha función pódese primeiramente calcular as singularidades dunha función dada. Na implementación do módulo **Sympy** (versión 1.4.0) unicamente está dispoñible esta cálculo para funcións de tipo racional e con dependecia nunha única variable. Tendo isto en conta, o dominio da función virá dado polo conxunto de puntos do espazo ao que se lle deben quitar os puntos onde se atopan as singularidades. Para o caso de varias variables, este análise pódese facer unicamente con respecto a unha das variables (e tomando un valor fixo para o resto):"
    },
    {
      "metadata": {
        "trusted": true
      },
      "cell_type": "code",
      "source": "f=sp.Lambda((x,y), x/((x+y)*y))\ndisplay(sp.calculus.singularities(f(x,y), x))\ndisplay(sp.calculus.singularities(f(x,y), y))",
      "execution_count": 5,
      "outputs": [
        {
          "output_type": "display_data",
          "data": {
            "text/latex": "$\\displaystyle \\left\\{- y\\right\\} \\setminus \\left\\{0\\right\\}$",
            "text/plain": "{-y} \\ {0}"
          },
          "metadata": {}
        },
        {
          "output_type": "display_data",
          "data": {
            "text/latex": "$\\displaystyle \\left\\{0, - x\\right\\}$",
            "text/plain": "{0, -x}"
          },
          "metadata": {}
        }
      ]
    },
    {
      "metadata": {},
      "cell_type": "markdown",
      "source": "Do mesmo xeito ao que ocorre coas singularidades, **Sympy** soamente é capaz de calcular o rango de funcións dunha única variable. Aínda que isto supón unha limitación, é posible explorar o rango dunha función de varias variables restrinxindo os valores dos argumentos a certos planos cartesianos e analizando o rango das funcións resultantes (dunha variable):"
    },
    {
      "metadata": {
        "trusted": true
      },
      "cell_type": "code",
      "source": "x, y, z = sp.symbols('x y z', real=True) # define as variables simbólicas x, y, z\nf=sp.Lambda((x,y,z), x*z/((x+y)*y))\nRx = sp.calculus.util.function_range(f(x,1,1), x, sp.Reals)\nRy = sp.calculus.util.function_range(f(1,y,1), y, sp.Reals)\nRz = sp.calculus.util.function_range(f(1,1,z), z, sp.Reals)\ndisplay(Rx)\ndisplay(Ry)\ndisplay(Rz)",
      "execution_count": 6,
      "outputs": [
        {
          "output_type": "display_data",
          "data": {
            "text/latex": "$\\displaystyle \\left(-\\infty, 1\\right) \\cup \\left(1, \\infty\\right)$",
            "text/plain": "Union(Interval.open(-oo, 1), Interval.open(1, oo))"
          },
          "metadata": {}
        },
        {
          "output_type": "display_data",
          "data": {
            "text/latex": "$\\displaystyle \\left(-\\infty, -4\\right] \\cup \\left(0, \\infty\\right)$",
            "text/plain": "Union(Interval(-oo, -4), Interval.open(0, oo))"
          },
          "metadata": {}
        },
        {
          "output_type": "display_data",
          "data": {
            "text/latex": "$\\displaystyle \\left(-\\infty, \\infty\\right)$",
            "text/plain": "Interval(-oo, oo)"
          },
          "metadata": {}
        }
      ]
    },
    {
      "metadata": {},
      "cell_type": "markdown",
      "source": "### **Exercicio 5.1** \nCalcula as singularidades e o rango da función $f(x,y)=\\displaystyle\\frac{y+x}{y-x^3}$."
    },
    {
      "metadata": {
        "trusted": true
      },
      "cell_type": "code",
      "source": "# O TEU CÓDIGO AQUÍ",
      "execution_count": 7,
      "outputs": []
    },
    {
      "metadata": {},
      "cell_type": "markdown",
      "source": "## Límites\nO módulo **Sympy** soamente dispón de ferramentas para cálcular os límites que depende dunha única variable. A pesar desta limitación, é posible calcular límites en varias variables usando as técnicas que xa revisamos nas clases de pizarra como son o uso de camiños por rectas $y=mx$, os límites (re)iterados, ou o cambio a coordenadas polares."
    },
    {
      "metadata": {},
      "cell_type": "markdown",
      "source": "### Límites de expresións nunha variable\nOs límites de expresións nunha variable poden calcularse usando a función `sp.limit`. O mesmo comando tamén permite o cálculo de límites laterais. Comprobemos o seu uso cunha función dunha variable moi sinxela (que non posúe límite):\n$$\nf(x)=\n\\begin{cases}\n+1 & \\text{se } x>0,\\\\\n-1 & \\text{se } x\\le 0.\n\\end{cases}\n$$"
    },
    {
      "metadata": {
        "trusted": true
      },
      "cell_type": "code",
      "source": "x = sp.Symbol('x', real=True) # define a variable simbólica x\nf = sp.Piecewise((1, x>0), (-1, True))\nF = sp.Lambda(x, f)\ndisplay(F)",
      "execution_count": 8,
      "outputs": [
        {
          "output_type": "display_data",
          "data": {
            "text/latex": "$\\displaystyle \\left( x \\mapsto \\begin{cases} 1 & \\text{for}\\: x > 0 \\\\-1 & \\text{otherwise} \\end{cases} \\right)$",
            "text/plain": "Lambda(x, Piecewise((1, x > 0), (-1, True)))"
          },
          "metadata": {}
        }
      ]
    },
    {
      "metadata": {},
      "cell_type": "markdown",
      "source": "Neste caso, o límite $\\displaystyle\\lim_{x\\to 0}f(x)$ non existe xa que os límite laterais non coinciden. A pesar disto, obtense:"
    },
    {
      "metadata": {
        "trusted": true
      },
      "cell_type": "code",
      "source": "display(sp.limit(F(x),x,0)) # Por defecto usa o valor do límite pola dereita\ndisplay(sp.limit(F(x),x,0,dir='+')) # límite pola dereita\ndisplay(sp.limit(F(x),x,0,dir='-')) # límite pola esquerda",
      "execution_count": 9,
      "outputs": [
        {
          "output_type": "display_data",
          "data": {
            "text/latex": "$\\displaystyle 1$",
            "text/plain": "1"
          },
          "metadata": {}
        },
        {
          "output_type": "display_data",
          "data": {
            "text/latex": "$\\displaystyle 1$",
            "text/plain": "1"
          },
          "metadata": {}
        },
        {
          "output_type": "display_data",
          "data": {
            "text/latex": "$\\displaystyle -1$",
            "text/plain": "-1"
          },
          "metadata": {}
        }
      ]
    },
    {
      "metadata": {},
      "cell_type": "markdown",
      "source": "Do mesmo xeito a como se definen os límite cando $x$ tende a un valor finito $a$, tamén se poden calcular os valores cando $x\\to+\\infty$ ou $x\\to-\\infty$. O valor de $\\infty$ está representado en **Sympy** por `sp.oo`. No caso da función $f(x)=e^x$, se obtén:"
    },
    {
      "metadata": {
        "trusted": true
      },
      "cell_type": "code",
      "source": "display(sp.limit(sp.exp(x),x,-sp.oo))\ndisplay(sp.limit(sp.exp(x),x,sp.oo))",
      "execution_count": 10,
      "outputs": [
        {
          "output_type": "display_data",
          "data": {
            "text/latex": "$\\displaystyle 0$",
            "text/plain": "0"
          },
          "metadata": {}
        },
        {
          "output_type": "display_data",
          "data": {
            "text/latex": "$\\displaystyle \\infty$",
            "text/plain": "oo"
          },
          "metadata": {}
        }
      ]
    },
    {
      "metadata": {},
      "cell_type": "markdown",
      "source": "### Límites de expresións en varias variables\nComo xa revisamos nas clases de pizarra, o cálculo de límites en varias variables é máis complexo xa que debemos analizar todos os camiños posibles para poder asegurar que o límite existe e coincide cun valor dado. Por exemplo, no caso da función $f(x,y)=\\frac{x^2y}{x^5+y^2}$ podemos ter valores diferentes segundo o camiño escollido para chegar ao punto $(0,0)$:"
    },
    {
      "metadata": {
        "trusted": true
      },
      "cell_type": "code",
      "source": "x, y = sp.symbols('x y', real=True) # define a variable simbólica x e y\nf = sp.Lambda((x,y), x**2*y/(x**5+y**2)) # agora temos definida a función simbólica f(x)\nsp.limit(f(x,y),x,0) # límite fixando o valor de y",
      "execution_count": 11,
      "outputs": [
        {
          "output_type": "execute_result",
          "execution_count": 11,
          "data": {
            "text/latex": "$\\displaystyle 0$",
            "text/plain": "0"
          },
          "metadata": {}
        }
      ]
    },
    {
      "metadata": {
        "trusted": true
      },
      "cell_type": "code",
      "source": "sp.limit(f(x,y),y,0) # límite fixando o valor de x",
      "execution_count": 12,
      "outputs": [
        {
          "output_type": "execute_result",
          "execution_count": 12,
          "data": {
            "text/latex": "$\\displaystyle 0$",
            "text/plain": "0"
          },
          "metadata": {}
        }
      ]
    },
    {
      "metadata": {
        "trusted": true
      },
      "cell_type": "code",
      "source": "m = sp.Symbol('m', real=True)\ndisplay(f(x,m*x))\nsp.limit(f(x,m*x),x,0) # límites polas rectas de pendente m",
      "execution_count": 13,
      "outputs": [
        {
          "output_type": "display_data",
          "data": {
            "text/latex": "$\\displaystyle \\frac{m x^{3}}{m^{2} x^{2} + x^{5}}$",
            "text/plain": "m*x**3/(m**2*x**2 + x**5)"
          },
          "metadata": {}
        },
        {
          "output_type": "execute_result",
          "execution_count": 13,
          "data": {
            "text/latex": "$\\displaystyle 0$",
            "text/plain": "0"
          },
          "metadata": {}
        }
      ]
    },
    {
      "metadata": {},
      "cell_type": "markdown",
      "source": "Nembargantes, se se emprega o camiño $y=x^3$ obtense un valor do límite diferentes de cero, do que se conclúe que o límite non existe:"
    },
    {
      "metadata": {
        "trusted": true
      },
      "cell_type": "code",
      "source": "sp.limit(f(x,x**3),x,0)",
      "execution_count": 14,
      "outputs": [
        {
          "output_type": "execute_result",
          "execution_count": 14,
          "data": {
            "text/latex": "$\\displaystyle 1$",
            "text/plain": "1"
          },
          "metadata": {}
        }
      ]
    },
    {
      "metadata": {},
      "cell_type": "markdown",
      "source": "### Límites (re)iterados\nOs límites (re)iterados é outra ferramenta máis para tratar de analizar o que ocorre co límite de funcións de varias variables. Posto que estos límite iterados son unha sucesión de cálculos de límites tendo en conta unha soa variable, este procedemento pode implementarse en **Sympy**. Por exemplo, se consideramos $f(x,y)= \\displaystyle \\frac{x^2-y^2}{x^2+y^2}$, resulta"
    },
    {
      "metadata": {
        "trusted": true
      },
      "cell_type": "code",
      "source": "f = sp.Lambda((x,y),(x**2-y**2)/(x**2+y**2))\ng = sp.limit(f(x,y),x,0)\nsp.limit(g,y,0)",
      "execution_count": 15,
      "outputs": [
        {
          "output_type": "execute_result",
          "execution_count": 15,
          "data": {
            "text/latex": "$\\displaystyle -1$",
            "text/plain": "-1"
          },
          "metadata": {}
        }
      ]
    },
    {
      "metadata": {
        "trusted": true
      },
      "cell_type": "code",
      "source": "g = sp.limit(f(x,y),y,0)\nsp.limit(g,x,0)",
      "execution_count": 16,
      "outputs": [
        {
          "output_type": "execute_result",
          "execution_count": 16,
          "data": {
            "text/latex": "$\\displaystyle 1$",
            "text/plain": "1"
          },
          "metadata": {}
        }
      ]
    },
    {
      "metadata": {},
      "cell_type": "markdown",
      "source": "e polo tanto pódese concluir que non existe o límite, xa que os valores non coinciden.\n\n### Casos onde non existe límites\nComo xa vimos nos exemplos analizados en clase de pizarra, existen multitude de exemplos onde os límites non existe, como é o caso de $\\displaystyle\\lim_{(x,y)\\to(0,0)}f(x,y)$ con \n$$\nf(x,y)=\n\\begin{cases}\n\\frac{xy}{x^2+y^2} & \\text{se } x^2+y^2>0,\\\\\n0 & \\text{se } (x,y)=(0,0).\n\\end{cases}\n$$"
    },
    {
      "metadata": {
        "trusted": true
      },
      "cell_type": "code",
      "source": "f = sp.Piecewise((x*y/(x**2+y**2), x**2+y**2>0), (0, True))\nF = sp.Lambda((x,y), f)\ndisplay(F)\n# Límite iterado primeiro en x e despois en y\nG = sp.limit(F(x,y),x,0)\ndisplay(G)\nsp.limit(G,y,0)",
      "execution_count": 17,
      "outputs": [
        {
          "output_type": "display_data",
          "data": {
            "text/latex": "$\\displaystyle \\left( \\left( x, \\  y\\right) \\mapsto \\begin{cases} \\frac{x y}{x^{2} + y^{2}} & \\text{for}\\: x^{2} + y^{2} > 0 \\\\0 & \\text{otherwise} \\end{cases} \\right)$",
            "text/plain": "Lambda((x, y), Piecewise((x*y/(x**2 + y**2), x**2 + y**2 > 0), (0, True)))"
          },
          "metadata": {}
        },
        {
          "output_type": "display_data",
          "data": {
            "text/latex": "$\\displaystyle 0$",
            "text/plain": "0"
          },
          "metadata": {}
        },
        {
          "output_type": "execute_result",
          "execution_count": 17,
          "data": {
            "text/latex": "$\\displaystyle 0$",
            "text/plain": "0"
          },
          "metadata": {}
        }
      ]
    },
    {
      "metadata": {},
      "cell_type": "markdown",
      "source": "Tendo en conta o límite sobre a recta $y=mx$, resulta:"
    },
    {
      "metadata": {
        "trusted": true
      },
      "cell_type": "code",
      "source": "display(F(x,m*x))\nsp.limit(F(x,m*x),x,0)",
      "execution_count": 18,
      "outputs": [
        {
          "output_type": "display_data",
          "data": {
            "text/latex": "$\\displaystyle \\begin{cases} \\frac{m x^{2}}{m^{2} x^{2} + x^{2}} & \\text{for}\\: m^{2} x^{2} + x^{2} > 0 \\\\0 & \\text{otherwise} \\end{cases}$",
            "text/plain": "Piecewise((m*x**2/(m**2*x**2 + x**2), m**2*x**2 + x**2 > 0), (0, True))"
          },
          "metadata": {}
        },
        {
          "output_type": "execute_result",
          "execution_count": 18,
          "data": {
            "text/latex": "$\\displaystyle \\frac{m}{m^{2} + 1}$",
            "text/plain": "m/(m**2 + 1)"
          },
          "metadata": {}
        }
      ]
    },
    {
      "metadata": {},
      "cell_type": "markdown",
      "source": "Polo que podemos asegurar que o límite non existe xa que o valor do límite dependería de $m$. Un último exemplo, onde os límites iterados non existe, pero o límite si existe é o seguinte:"
    },
    {
      "metadata": {
        "trusted": true
      },
      "cell_type": "code",
      "source": "f = sp.Piecewise((y, x > 0), (-y, True))\nF = sp.Lambda((x,y), f)\ndisplay(F)\n# Límite iterado primeiro en x e despois en y\nG = sp.limit(F(x,y),x,0)\nsp.limit(G,y,0)",
      "execution_count": 19,
      "outputs": [
        {
          "output_type": "display_data",
          "data": {
            "text/latex": "$\\displaystyle \\left( \\left( x, \\  y\\right) \\mapsto \\begin{cases} y & \\text{for}\\: x > 0 \\\\- y & \\text{otherwise} \\end{cases} \\right)$",
            "text/plain": "Lambda((x, y), Piecewise((y, x > 0), (-y, True)))"
          },
          "metadata": {}
        },
        {
          "output_type": "execute_result",
          "execution_count": 19,
          "data": {
            "text/latex": "$\\displaystyle 0$",
            "text/plain": "0"
          },
          "metadata": {}
        }
      ]
    },
    {
      "metadata": {
        "trusted": true,
        "scrolled": true
      },
      "cell_type": "code",
      "source": "# Límite iterado primeiro en y e despois en x\nG = sp.limit(F(x,y),y,0) # ERRO: Sympy non é capaz de calcular este límite",
      "execution_count": 20,
      "outputs": [
        {
          "output_type": "error",
          "ename": "NotImplementedError",
          "evalue": "Don't know how to calculate the mrv of '(1/_p, x > 0)'",
          "traceback": [
            "\u001b[0;31m---------------------------------------------------------------------------\u001b[0m",
            "\u001b[0;31mNotImplementedError\u001b[0m                       Traceback (most recent call last)",
            "\u001b[0;32m<ipython-input-20-561d396e827e>\u001b[0m in \u001b[0;36m<module>\u001b[0;34m\u001b[0m\n\u001b[1;32m      1\u001b[0m \u001b[0;31m# Límite iterado primeiro en y e despois en x\u001b[0m\u001b[0;34m\u001b[0m\u001b[0;34m\u001b[0m\u001b[0m\n\u001b[0;32m----> 2\u001b[0;31m \u001b[0mG\u001b[0m \u001b[0;34m=\u001b[0m \u001b[0msp\u001b[0m\u001b[0;34m.\u001b[0m\u001b[0mlimit\u001b[0m\u001b[0;34m(\u001b[0m\u001b[0mF\u001b[0m\u001b[0;34m(\u001b[0m\u001b[0mx\u001b[0m\u001b[0;34m,\u001b[0m\u001b[0my\u001b[0m\u001b[0;34m)\u001b[0m\u001b[0;34m,\u001b[0m\u001b[0my\u001b[0m\u001b[0;34m,\u001b[0m\u001b[0;36m0\u001b[0m\u001b[0;34m)\u001b[0m \u001b[0;31m# ERRO: Sympy non é capaz de calcular este límite\u001b[0m\u001b[0;34m\u001b[0m\u001b[0m\n\u001b[0m",
            "\u001b[0;32m~/anaconda3_501/lib/python3.6/site-packages/sympy/series/limits.py\u001b[0m in \u001b[0;36mlimit\u001b[0;34m(e, z, z0, dir)\u001b[0m\n\u001b[1;32m     80\u001b[0m                     % (llim, rlim))\n\u001b[1;32m     81\u001b[0m     \u001b[0;32melse\u001b[0m\u001b[0;34m:\u001b[0m\u001b[0;34m\u001b[0m\u001b[0m\n\u001b[0;32m---> 82\u001b[0;31m         \u001b[0;32mreturn\u001b[0m \u001b[0mLimit\u001b[0m\u001b[0;34m(\u001b[0m\u001b[0me\u001b[0m\u001b[0;34m,\u001b[0m \u001b[0mz\u001b[0m\u001b[0;34m,\u001b[0m \u001b[0mz0\u001b[0m\u001b[0;34m,\u001b[0m \u001b[0mdir\u001b[0m\u001b[0;34m)\u001b[0m\u001b[0;34m.\u001b[0m\u001b[0mdoit\u001b[0m\u001b[0;34m(\u001b[0m\u001b[0mdeep\u001b[0m\u001b[0;34m=\u001b[0m\u001b[0;32mFalse\u001b[0m\u001b[0;34m)\u001b[0m\u001b[0;34m\u001b[0m\u001b[0m\n\u001b[0m\u001b[1;32m     83\u001b[0m \u001b[0;34m\u001b[0m\u001b[0m\n\u001b[1;32m     84\u001b[0m \u001b[0;34m\u001b[0m\u001b[0m\n",
            "\u001b[0;32m~/anaconda3_501/lib/python3.6/site-packages/sympy/series/limits.py\u001b[0m in \u001b[0;36mdoit\u001b[0;34m(self, **hints)\u001b[0m\n\u001b[1;32m    261\u001b[0m \u001b[0;34m\u001b[0m\u001b[0m\n\u001b[1;32m    262\u001b[0m         \u001b[0;32mtry\u001b[0m\u001b[0;34m:\u001b[0m\u001b[0;34m\u001b[0m\u001b[0m\n\u001b[0;32m--> 263\u001b[0;31m             \u001b[0mr\u001b[0m \u001b[0;34m=\u001b[0m \u001b[0mgruntz\u001b[0m\u001b[0;34m(\u001b[0m\u001b[0me\u001b[0m\u001b[0;34m,\u001b[0m \u001b[0mz\u001b[0m\u001b[0;34m,\u001b[0m \u001b[0mz0\u001b[0m\u001b[0;34m,\u001b[0m \u001b[0mdir\u001b[0m\u001b[0;34m)\u001b[0m\u001b[0;34m\u001b[0m\u001b[0m\n\u001b[0m\u001b[1;32m    264\u001b[0m             \u001b[0;32mif\u001b[0m \u001b[0mr\u001b[0m \u001b[0;32mis\u001b[0m \u001b[0mS\u001b[0m\u001b[0;34m.\u001b[0m\u001b[0mNaN\u001b[0m\u001b[0;34m:\u001b[0m\u001b[0;34m\u001b[0m\u001b[0m\n\u001b[1;32m    265\u001b[0m                 \u001b[0;32mraise\u001b[0m \u001b[0mPoleError\u001b[0m\u001b[0;34m(\u001b[0m\u001b[0;34m)\u001b[0m\u001b[0;34m\u001b[0m\u001b[0m\n",
            "\u001b[0;32m~/anaconda3_501/lib/python3.6/site-packages/sympy/series/gruntz.py\u001b[0m in \u001b[0;36mgruntz\u001b[0;34m(e, z, z0, dir)\u001b[0m\n\u001b[1;32m    654\u001b[0m         \u001b[0;32melse\u001b[0m\u001b[0;34m:\u001b[0m\u001b[0;34m\u001b[0m\u001b[0m\n\u001b[1;32m    655\u001b[0m             \u001b[0;32mraise\u001b[0m \u001b[0mNotImplementedError\u001b[0m\u001b[0;34m(\u001b[0m\u001b[0;34m\"dir must be '+' or '-'\"\u001b[0m\u001b[0;34m)\u001b[0m\u001b[0;34m\u001b[0m\u001b[0m\n\u001b[0;32m--> 656\u001b[0;31m         \u001b[0mr\u001b[0m \u001b[0;34m=\u001b[0m \u001b[0mlimitinf\u001b[0m\u001b[0;34m(\u001b[0m\u001b[0me0\u001b[0m\u001b[0;34m,\u001b[0m \u001b[0mz\u001b[0m\u001b[0;34m)\u001b[0m\u001b[0;34m\u001b[0m\u001b[0m\n\u001b[0m\u001b[1;32m    657\u001b[0m \u001b[0;34m\u001b[0m\u001b[0m\n\u001b[1;32m    658\u001b[0m     \u001b[0;31m# This is a bit of a heuristic for nice results... we always rewrite\u001b[0m\u001b[0;34m\u001b[0m\u001b[0;34m\u001b[0m\u001b[0m\n",
            "\u001b[0;32m~/anaconda3_501/lib/python3.6/site-packages/sympy/series/gruntz.py\u001b[0m in \u001b[0;36mlimitinf\u001b[0;34m(e, x)\u001b[0m\n\u001b[1;32m    424\u001b[0m         \u001b[0me\u001b[0m \u001b[0;34m=\u001b[0m \u001b[0me\u001b[0m\u001b[0;34m.\u001b[0m\u001b[0msubs\u001b[0m\u001b[0;34m(\u001b[0m\u001b[0mx\u001b[0m\u001b[0;34m,\u001b[0m \u001b[0mp\u001b[0m\u001b[0;34m)\u001b[0m\u001b[0;34m\u001b[0m\u001b[0m\n\u001b[1;32m    425\u001b[0m         \u001b[0mx\u001b[0m \u001b[0;34m=\u001b[0m \u001b[0mp\u001b[0m\u001b[0;34m\u001b[0m\u001b[0m\n\u001b[0;32m--> 426\u001b[0;31m     \u001b[0mc0\u001b[0m\u001b[0;34m,\u001b[0m \u001b[0me0\u001b[0m \u001b[0;34m=\u001b[0m \u001b[0mmrv_leadterm\u001b[0m\u001b[0;34m(\u001b[0m\u001b[0me\u001b[0m\u001b[0;34m,\u001b[0m \u001b[0mx\u001b[0m\u001b[0;34m)\u001b[0m\u001b[0;34m\u001b[0m\u001b[0m\n\u001b[0m\u001b[1;32m    427\u001b[0m     \u001b[0msig\u001b[0m \u001b[0;34m=\u001b[0m \u001b[0msign\u001b[0m\u001b[0;34m(\u001b[0m\u001b[0me0\u001b[0m\u001b[0;34m,\u001b[0m \u001b[0mx\u001b[0m\u001b[0;34m)\u001b[0m\u001b[0;34m\u001b[0m\u001b[0m\n\u001b[1;32m    428\u001b[0m     \u001b[0;32mif\u001b[0m \u001b[0msig\u001b[0m \u001b[0;34m==\u001b[0m \u001b[0;36m1\u001b[0m\u001b[0;34m:\u001b[0m\u001b[0;34m\u001b[0m\u001b[0m\n",
            "\u001b[0;32m~/anaconda3_501/lib/python3.6/site-packages/sympy/series/gruntz.py\u001b[0m in \u001b[0;36mmrv_leadterm\u001b[0;34m(e, x)\u001b[0m\n\u001b[1;32m    483\u001b[0m         \u001b[0;32mreturn\u001b[0m \u001b[0;34m(\u001b[0m\u001b[0me\u001b[0m\u001b[0;34m,\u001b[0m \u001b[0mS\u001b[0m\u001b[0;34m.\u001b[0m\u001b[0mZero\u001b[0m\u001b[0;34m)\u001b[0m\u001b[0;34m\u001b[0m\u001b[0m\n\u001b[1;32m    484\u001b[0m     \u001b[0;32mif\u001b[0m \u001b[0mOmega\u001b[0m \u001b[0;34m==\u001b[0m \u001b[0mSubsSet\u001b[0m\u001b[0;34m(\u001b[0m\u001b[0;34m)\u001b[0m\u001b[0;34m:\u001b[0m\u001b[0;34m\u001b[0m\u001b[0m\n\u001b[0;32m--> 485\u001b[0;31m         \u001b[0mOmega\u001b[0m\u001b[0;34m,\u001b[0m \u001b[0mexps\u001b[0m \u001b[0;34m=\u001b[0m \u001b[0mmrv\u001b[0m\u001b[0;34m(\u001b[0m\u001b[0me\u001b[0m\u001b[0;34m,\u001b[0m \u001b[0mx\u001b[0m\u001b[0;34m)\u001b[0m\u001b[0;34m\u001b[0m\u001b[0m\n\u001b[0m\u001b[1;32m    486\u001b[0m     \u001b[0;32mif\u001b[0m \u001b[0;32mnot\u001b[0m \u001b[0mOmega\u001b[0m\u001b[0;34m:\u001b[0m\u001b[0;34m\u001b[0m\u001b[0m\n\u001b[1;32m    487\u001b[0m         \u001b[0;31m# e really does not depend on x after simplification\u001b[0m\u001b[0;34m\u001b[0m\u001b[0;34m\u001b[0m\u001b[0m\n",
            "\u001b[0;32m~/anaconda3_501/lib/python3.6/site-packages/sympy/series/gruntz.py\u001b[0m in \u001b[0;36mmrv\u001b[0;34m(e, x)\u001b[0m\n\u001b[1;32m    291\u001b[0m             \u001b[0;32mreturn\u001b[0m \u001b[0ms\u001b[0m\u001b[0;34m,\u001b[0m \u001b[0mexp\u001b[0m\u001b[0;34m(\u001b[0m\u001b[0mexpr\u001b[0m\u001b[0;34m)\u001b[0m\u001b[0;34m\u001b[0m\u001b[0m\n\u001b[1;32m    292\u001b[0m     \u001b[0;32melif\u001b[0m \u001b[0me\u001b[0m\u001b[0;34m.\u001b[0m\u001b[0mis_Function\u001b[0m\u001b[0;34m:\u001b[0m\u001b[0;34m\u001b[0m\u001b[0m\n\u001b[0;32m--> 293\u001b[0;31m         \u001b[0ml\u001b[0m \u001b[0;34m=\u001b[0m \u001b[0;34m[\u001b[0m\u001b[0mmrv\u001b[0m\u001b[0;34m(\u001b[0m\u001b[0ma\u001b[0m\u001b[0;34m,\u001b[0m \u001b[0mx\u001b[0m\u001b[0;34m)\u001b[0m \u001b[0;32mfor\u001b[0m \u001b[0ma\u001b[0m \u001b[0;32min\u001b[0m \u001b[0me\u001b[0m\u001b[0;34m.\u001b[0m\u001b[0margs\u001b[0m\u001b[0;34m]\u001b[0m\u001b[0;34m\u001b[0m\u001b[0m\n\u001b[0m\u001b[1;32m    294\u001b[0m         \u001b[0ml2\u001b[0m \u001b[0;34m=\u001b[0m \u001b[0;34m[\u001b[0m\u001b[0ms\u001b[0m \u001b[0;32mfor\u001b[0m \u001b[0;34m(\u001b[0m\u001b[0ms\u001b[0m\u001b[0;34m,\u001b[0m \u001b[0m_\u001b[0m\u001b[0;34m)\u001b[0m \u001b[0;32min\u001b[0m \u001b[0ml\u001b[0m \u001b[0;32mif\u001b[0m \u001b[0ms\u001b[0m \u001b[0;34m!=\u001b[0m \u001b[0mSubsSet\u001b[0m\u001b[0;34m(\u001b[0m\u001b[0;34m)\u001b[0m\u001b[0;34m]\u001b[0m\u001b[0;34m\u001b[0m\u001b[0m\n\u001b[1;32m    295\u001b[0m         \u001b[0;32mif\u001b[0m \u001b[0mlen\u001b[0m\u001b[0;34m(\u001b[0m\u001b[0ml2\u001b[0m\u001b[0;34m)\u001b[0m \u001b[0;34m!=\u001b[0m \u001b[0;36m1\u001b[0m\u001b[0;34m:\u001b[0m\u001b[0;34m\u001b[0m\u001b[0m\n",
            "\u001b[0;32m~/anaconda3_501/lib/python3.6/site-packages/sympy/series/gruntz.py\u001b[0m in \u001b[0;36m<listcomp>\u001b[0;34m(.0)\u001b[0m\n\u001b[1;32m    291\u001b[0m             \u001b[0;32mreturn\u001b[0m \u001b[0ms\u001b[0m\u001b[0;34m,\u001b[0m \u001b[0mexp\u001b[0m\u001b[0;34m(\u001b[0m\u001b[0mexpr\u001b[0m\u001b[0;34m)\u001b[0m\u001b[0;34m\u001b[0m\u001b[0m\n\u001b[1;32m    292\u001b[0m     \u001b[0;32melif\u001b[0m \u001b[0me\u001b[0m\u001b[0;34m.\u001b[0m\u001b[0mis_Function\u001b[0m\u001b[0;34m:\u001b[0m\u001b[0;34m\u001b[0m\u001b[0m\n\u001b[0;32m--> 293\u001b[0;31m         \u001b[0ml\u001b[0m \u001b[0;34m=\u001b[0m \u001b[0;34m[\u001b[0m\u001b[0mmrv\u001b[0m\u001b[0;34m(\u001b[0m\u001b[0ma\u001b[0m\u001b[0;34m,\u001b[0m \u001b[0mx\u001b[0m\u001b[0;34m)\u001b[0m \u001b[0;32mfor\u001b[0m \u001b[0ma\u001b[0m \u001b[0;32min\u001b[0m \u001b[0me\u001b[0m\u001b[0;34m.\u001b[0m\u001b[0margs\u001b[0m\u001b[0;34m]\u001b[0m\u001b[0;34m\u001b[0m\u001b[0m\n\u001b[0m\u001b[1;32m    294\u001b[0m         \u001b[0ml2\u001b[0m \u001b[0;34m=\u001b[0m \u001b[0;34m[\u001b[0m\u001b[0ms\u001b[0m \u001b[0;32mfor\u001b[0m \u001b[0;34m(\u001b[0m\u001b[0ms\u001b[0m\u001b[0;34m,\u001b[0m \u001b[0m_\u001b[0m\u001b[0;34m)\u001b[0m \u001b[0;32min\u001b[0m \u001b[0ml\u001b[0m \u001b[0;32mif\u001b[0m \u001b[0ms\u001b[0m \u001b[0;34m!=\u001b[0m \u001b[0mSubsSet\u001b[0m\u001b[0;34m(\u001b[0m\u001b[0;34m)\u001b[0m\u001b[0;34m]\u001b[0m\u001b[0;34m\u001b[0m\u001b[0m\n\u001b[1;32m    295\u001b[0m         \u001b[0;32mif\u001b[0m \u001b[0mlen\u001b[0m\u001b[0;34m(\u001b[0m\u001b[0ml2\u001b[0m\u001b[0;34m)\u001b[0m \u001b[0;34m!=\u001b[0m \u001b[0;36m1\u001b[0m\u001b[0;34m:\u001b[0m\u001b[0;34m\u001b[0m\u001b[0m\n",
            "\u001b[0;32m~/anaconda3_501/lib/python3.6/site-packages/sympy/series/gruntz.py\u001b[0m in \u001b[0;36mmrv\u001b[0;34m(e, x)\u001b[0m\n\u001b[1;32m    305\u001b[0m         \u001b[0;32mreturn\u001b[0m \u001b[0mmrv\u001b[0m\u001b[0;34m(\u001b[0m\u001b[0me\u001b[0m\u001b[0;34m.\u001b[0m\u001b[0margs\u001b[0m\u001b[0;34m[\u001b[0m\u001b[0;36m0\u001b[0m\u001b[0;34m]\u001b[0m\u001b[0;34m,\u001b[0m \u001b[0mx\u001b[0m\u001b[0;34m)\u001b[0m\u001b[0;34m\u001b[0m\u001b[0m\n\u001b[1;32m    306\u001b[0m     raise NotImplementedError(\n\u001b[0;32m--> 307\u001b[0;31m         \"Don't know how to calculate the mrv of '%s'\" % e)\n\u001b[0m\u001b[1;32m    308\u001b[0m \u001b[0;34m\u001b[0m\u001b[0m\n\u001b[1;32m    309\u001b[0m \u001b[0;34m\u001b[0m\u001b[0m\n",
            "\u001b[0;31mNotImplementedError\u001b[0m: Don't know how to calculate the mrv of '(1/_p, x > 0)'"
          ]
        }
      ]
    },
    {
      "metadata": {},
      "cell_type": "markdown",
      "source": "### Límites con coordenadas polares\nUn dos recursos que usaremos con máis frecuencia para calcular límites en varias variables será o uso de coordenadas polares (no plano) ou coordenadas esféricas (no espazo tridimensional), para calcular límites do tipo $\\displaystyle\\lim_{(x,y)\\to(0,0)}f(x,y)$ substitutindo $x=r\\cos\\theta$ e $y=r\\sin\\theta$. Por exemplo:"
    },
    {
      "metadata": {
        "trusted": true
      },
      "cell_type": "code",
      "source": "r = sp.Symbol('r', nonnegative=True)\ntheta = sp.Symbol('theta', real=True)\nf = (x**3+2*x*y**2)/(x**2+y**2)\nF = sp.Lambda((x,y), f)\ndisplay(F)\ndisplay(F(r*sp.cos(theta), r*sp.sin(theta)))\nsp.limit(F(r*sp.cos(theta), r*sp.sin(theta)),r,0)",
      "execution_count": 21,
      "outputs": [
        {
          "output_type": "display_data",
          "data": {
            "text/latex": "$\\displaystyle \\left( \\left( x, \\  y\\right) \\mapsto \\frac{x^{3} + 2 x y^{2}}{x^{2} + y^{2}} \\right)$",
            "text/plain": "Lambda((x, y), (x**3 + 2*x*y**2)/(x**2 + y**2))"
          },
          "metadata": {}
        },
        {
          "output_type": "display_data",
          "data": {
            "text/latex": "$\\displaystyle \\frac{2 r^{3} \\sin^{2}{\\left(\\theta \\right)} \\cos{\\left(\\theta \\right)} + r^{3} \\cos^{3}{\\left(\\theta \\right)}}{r^{2} \\sin^{2}{\\left(\\theta \\right)} + r^{2} \\cos^{2}{\\left(\\theta \\right)}}$",
            "text/plain": "(2*r**3*sin(theta)**2*cos(theta) + r**3*cos(theta)**3)/(r**2*sin(theta)**2 + r**2*cos(theta)**2)"
          },
          "metadata": {}
        },
        {
          "output_type": "execute_result",
          "execution_count": 21,
          "data": {
            "text/latex": "$\\displaystyle 0$",
            "text/plain": "0"
          },
          "metadata": {}
        }
      ]
    },
    {
      "metadata": {},
      "cell_type": "markdown",
      "source": "### **Exercicio 5.2** \n\nDada a función $f(x,y)=\\displaystyle\\frac{x-y^3}{x+y^3}$ calcula os seguintes límites cando $(x,y)\\to (0,0)$:\n- Límites sobre as rectas $y=mx$\n- Límites iterados\n- Límite usando coordenadas polares"
    },
    {
      "metadata": {
        "trusted": true
      },
      "cell_type": "code",
      "source": "# O TEU CÓDIGO AQUÍ\nsp.calculus.",
      "execution_count": 22,
      "outputs": []
    },
    {
      "metadata": {},
      "cell_type": "markdown",
      "source": "## Análise da continuidade de varias variables\n\nNo módulo de **Sympy** existe unha función que calcular o dominio de continuidade (o conxunto de puntos onde a funciín é continua) dunha función dunha única variable. No caso de varias variables, o que se pode analizar é a continuidade dunha función con respecto ao resto de variables fixas. A función  empregar é `sp.calculus.util.continuous_domain(f(x,y), x, sp.Reals)`"
    },
    {
      "metadata": {
        "trusted": true
      },
      "cell_type": "code",
      "source": "f=sp.Lambda((x,y), x/((x+y)*y))\nIx = sp.calculus.util.continuous_domain(f(x,y), x, sp.Reals)\nIy = sp.calculus.util.continuous_domain(f(x,y), y, sp.Reals)\ndisplay(Ix)\ndisplay(Iy)",
      "execution_count": 23,
      "outputs": [
        {
          "output_type": "display_data",
          "data": {
            "text/latex": "$\\displaystyle \\mathbb{R} \\setminus \\left\\{- y\\right\\} \\cup \\left\\{- y\\right\\} \\setminus \\left\\{0\\right\\}$",
            "text/plain": "Reals \\ Union({-y}, {-y} \\ {0})"
          },
          "metadata": {}
        },
        {
          "output_type": "display_data",
          "data": {
            "text/latex": "$\\displaystyle \\left(-\\infty, 0\\right) \\cup \\left(0, \\infty\\right)$",
            "text/plain": "Union(Interval.open(-oo, 0), Interval.open(0, oo))"
          },
          "metadata": {}
        }
      ]
    },
    {
      "metadata": {},
      "cell_type": "markdown",
      "source": "Ademáis, para analizar a continuidade de $F$ nun punto $(a,b)$, basta con comprobar que\n$$\nF(a,b)=\\lim_{(x,y)\\to(a,b)}F(x,y).\n$$\nPor exemplo, no caso dunha función dunha única variable:"
    },
    {
      "metadata": {
        "trusted": true
      },
      "cell_type": "code",
      "source": "# Dominio de continuidade da función valor absoluto\nF = sp.Lambda((x), sp.Abs(x))\nIx = sp.calculus.util.continuous_domain(F(x), x, sp.Reals)\ndisplay(Ix)\n\n# Comprobación da continuidade definida a cachos\nf = sp.Piecewise((x, x > 0), (-x, True))\nF = sp.Lambda((x), f)\nprint('A función F é continua en x=0:', sp.limit(F(x),x,0)==F(0))\nIx = sp.calculus.util.continuous_domain(F(x), x, sp.Reals) # ERRO: non están soportadas as Piecewise functions!\n",
      "execution_count": 24,
      "outputs": [
        {
          "output_type": "display_data",
          "data": {
            "text/latex": "$\\displaystyle \\mathbb{R}$",
            "text/plain": "Reals"
          },
          "metadata": {}
        },
        {
          "output_type": "stream",
          "text": "A función F é continua en x=0: True\n",
          "name": "stdout"
        },
        {
          "output_type": "error",
          "ename": "ValueError",
          "evalue": "\nInequalities in the complex domain are not supported. Try the real\ndomain by setting domain=S.Reals",
          "traceback": [
            "\u001b[0;31m---------------------------------------------------------------------------\u001b[0m",
            "\u001b[0;31mValueError\u001b[0m                                Traceback (most recent call last)",
            "\u001b[0;32m<ipython-input-24-b43cc2a46a87>\u001b[0m in \u001b[0;36m<module>\u001b[0;34m\u001b[0m\n\u001b[1;32m      8\u001b[0m \u001b[0mF\u001b[0m \u001b[0;34m=\u001b[0m \u001b[0msp\u001b[0m\u001b[0;34m.\u001b[0m\u001b[0mLambda\u001b[0m\u001b[0;34m(\u001b[0m\u001b[0;34m(\u001b[0m\u001b[0mx\u001b[0m\u001b[0;34m)\u001b[0m\u001b[0;34m,\u001b[0m \u001b[0mf\u001b[0m\u001b[0;34m)\u001b[0m\u001b[0;34m\u001b[0m\u001b[0m\n\u001b[1;32m      9\u001b[0m \u001b[0mprint\u001b[0m\u001b[0;34m(\u001b[0m\u001b[0;34m'A función F é continua en x=0:'\u001b[0m\u001b[0;34m,\u001b[0m \u001b[0msp\u001b[0m\u001b[0;34m.\u001b[0m\u001b[0mlimit\u001b[0m\u001b[0;34m(\u001b[0m\u001b[0mF\u001b[0m\u001b[0;34m(\u001b[0m\u001b[0mx\u001b[0m\u001b[0;34m)\u001b[0m\u001b[0;34m,\u001b[0m\u001b[0mx\u001b[0m\u001b[0;34m,\u001b[0m\u001b[0;36m0\u001b[0m\u001b[0;34m)\u001b[0m\u001b[0;34m==\u001b[0m\u001b[0mF\u001b[0m\u001b[0;34m(\u001b[0m\u001b[0;36m0\u001b[0m\u001b[0;34m)\u001b[0m\u001b[0;34m)\u001b[0m\u001b[0;34m\u001b[0m\u001b[0m\n\u001b[0;32m---> 10\u001b[0;31m \u001b[0mIx\u001b[0m \u001b[0;34m=\u001b[0m \u001b[0msp\u001b[0m\u001b[0;34m.\u001b[0m\u001b[0mcalculus\u001b[0m\u001b[0;34m.\u001b[0m\u001b[0mutil\u001b[0m\u001b[0;34m.\u001b[0m\u001b[0mcontinuous_domain\u001b[0m\u001b[0;34m(\u001b[0m\u001b[0mF\u001b[0m\u001b[0;34m(\u001b[0m\u001b[0mx\u001b[0m\u001b[0;34m)\u001b[0m\u001b[0;34m,\u001b[0m \u001b[0mx\u001b[0m\u001b[0;34m,\u001b[0m \u001b[0msp\u001b[0m\u001b[0;34m.\u001b[0m\u001b[0mReals\u001b[0m\u001b[0;34m)\u001b[0m \u001b[0;31m# ERRO: non están soportadas as Piecewise functions!\u001b[0m\u001b[0;34m\u001b[0m\u001b[0m\n\u001b[0m",
            "\u001b[0;32m~/anaconda3_501/lib/python3.6/site-packages/sympy/calculus/util.py\u001b[0m in \u001b[0;36mcontinuous_domain\u001b[0;34m(f, symbol, domain)\u001b[0m\n\u001b[1;32m     95\u001b[0m                     \u001b[0;32mbreak\u001b[0m\u001b[0;34m\u001b[0m\u001b[0m\n\u001b[1;32m     96\u001b[0m             \u001b[0;32melse\u001b[0m\u001b[0;34m:\u001b[0m\u001b[0;34m\u001b[0m\u001b[0m\n\u001b[0;32m---> 97\u001b[0;31m                 \u001b[0msings\u001b[0m \u001b[0;34m=\u001b[0m \u001b[0mIntersection\u001b[0m\u001b[0;34m(\u001b[0m\u001b[0msolveset\u001b[0m\u001b[0;34m(\u001b[0m\u001b[0;36m1\u001b[0m\u001b[0;34m/\u001b[0m\u001b[0mf\u001b[0m\u001b[0;34m,\u001b[0m \u001b[0msymbol\u001b[0m\u001b[0;34m)\u001b[0m\u001b[0;34m,\u001b[0m \u001b[0mdomain\u001b[0m\u001b[0;34m)\u001b[0m \u001b[0;34m+\u001b[0m\u001b[0;31m \u001b[0m\u001b[0;31m\\\u001b[0m\u001b[0;34m\u001b[0m\u001b[0m\n\u001b[0m\u001b[1;32m     98\u001b[0m                     \u001b[0msolveset\u001b[0m\u001b[0;34m(\u001b[0m\u001b[0mdenom\u001b[0m\u001b[0;34m(\u001b[0m\u001b[0mtogether\u001b[0m\u001b[0;34m(\u001b[0m\u001b[0mf\u001b[0m\u001b[0;34m)\u001b[0m\u001b[0;34m)\u001b[0m\u001b[0;34m,\u001b[0m \u001b[0msymbol\u001b[0m\u001b[0;34m,\u001b[0m \u001b[0mdomain\u001b[0m\u001b[0;34m)\u001b[0m\u001b[0;34m\u001b[0m\u001b[0m\n\u001b[1;32m     99\u001b[0m \u001b[0;34m\u001b[0m\u001b[0m\n",
            "\u001b[0;32m~/anaconda3_501/lib/python3.6/site-packages/sympy/solvers/solveset.py\u001b[0m in \u001b[0;36msolveset\u001b[0;34m(f, symbol, domain)\u001b[0m\n\u001b[1;32m   1712\u001b[0m     \u001b[0mf\u001b[0m \u001b[0;34m=\u001b[0m \u001b[0mpiecewise_fold\u001b[0m\u001b[0;34m(\u001b[0m\u001b[0mf\u001b[0m\u001b[0;34m)\u001b[0m\u001b[0;34m\u001b[0m\u001b[0m\n\u001b[1;32m   1713\u001b[0m \u001b[0;34m\u001b[0m\u001b[0m\n\u001b[0;32m-> 1714\u001b[0;31m     \u001b[0;32mreturn\u001b[0m \u001b[0m_solveset\u001b[0m\u001b[0;34m(\u001b[0m\u001b[0mf\u001b[0m\u001b[0;34m,\u001b[0m \u001b[0msymbol\u001b[0m\u001b[0;34m,\u001b[0m \u001b[0mdomain\u001b[0m\u001b[0;34m,\u001b[0m \u001b[0m_check\u001b[0m\u001b[0;34m=\u001b[0m\u001b[0;32mTrue\u001b[0m\u001b[0;34m)\u001b[0m\u001b[0;34m\u001b[0m\u001b[0m\n\u001b[0m\u001b[1;32m   1715\u001b[0m \u001b[0;34m\u001b[0m\u001b[0m\n\u001b[1;32m   1716\u001b[0m \u001b[0;34m\u001b[0m\u001b[0m\n",
            "\u001b[0;32m~/anaconda3_501/lib/python3.6/site-packages/sympy/solvers/solveset.py\u001b[0m in \u001b[0;36m_solveset\u001b[0;34m(f, symbol, domain, _check)\u001b[0m\n\u001b[1;32m    907\u001b[0m     \u001b[0;32melif\u001b[0m \u001b[0mf\u001b[0m\u001b[0;34m.\u001b[0m\u001b[0mis_Piecewise\u001b[0m\u001b[0;34m:\u001b[0m\u001b[0;34m\u001b[0m\u001b[0m\n\u001b[1;32m    908\u001b[0m         \u001b[0mresult\u001b[0m \u001b[0;34m=\u001b[0m \u001b[0mEmptySet\u001b[0m\u001b[0;34m(\u001b[0m\u001b[0;34m)\u001b[0m\u001b[0;34m\u001b[0m\u001b[0m\n\u001b[0;32m--> 909\u001b[0;31m         \u001b[0mexpr_set_pairs\u001b[0m \u001b[0;34m=\u001b[0m \u001b[0mf\u001b[0m\u001b[0;34m.\u001b[0m\u001b[0mas_expr_set_pairs\u001b[0m\u001b[0;34m(\u001b[0m\u001b[0mdomain\u001b[0m\u001b[0;34m)\u001b[0m\u001b[0;34m\u001b[0m\u001b[0m\n\u001b[0m\u001b[1;32m    910\u001b[0m         \u001b[0;32mfor\u001b[0m \u001b[0;34m(\u001b[0m\u001b[0mexpr\u001b[0m\u001b[0;34m,\u001b[0m \u001b[0min_set\u001b[0m\u001b[0;34m)\u001b[0m \u001b[0;32min\u001b[0m \u001b[0mexpr_set_pairs\u001b[0m\u001b[0;34m:\u001b[0m\u001b[0;34m\u001b[0m\u001b[0m\n\u001b[1;32m    911\u001b[0m             \u001b[0;32mif\u001b[0m \u001b[0min_set\u001b[0m\u001b[0;34m.\u001b[0m\u001b[0mis_Relational\u001b[0m\u001b[0;34m:\u001b[0m\u001b[0;34m\u001b[0m\u001b[0m\n",
            "\u001b[0;32m~/anaconda3_501/lib/python3.6/site-packages/sympy/functions/elementary/piecewise.py\u001b[0m in \u001b[0;36mas_expr_set_pairs\u001b[0;34m(self, domain)\u001b[0m\n\u001b[1;32m    969\u001b[0m                             \u001b[0mInequalities\u001b[0m \u001b[0;32min\u001b[0m \u001b[0mthe\u001b[0m \u001b[0mcomplex\u001b[0m \u001b[0mdomain\u001b[0m \u001b[0mare\u001b[0m\u001b[0;34m\u001b[0m\u001b[0m\n\u001b[1;32m    970\u001b[0m                             \u001b[0;32mnot\u001b[0m \u001b[0msupported\u001b[0m\u001b[0;34m.\u001b[0m \u001b[0mTry\u001b[0m \u001b[0mthe\u001b[0m \u001b[0mreal\u001b[0m \u001b[0mdomain\u001b[0m \u001b[0mby\u001b[0m\u001b[0;34m\u001b[0m\u001b[0m\n\u001b[0;32m--> 971\u001b[0;31m                             setting domain=S.Reals'''))\n\u001b[0m\u001b[1;32m    972\u001b[0m             \u001b[0mcond_int\u001b[0m \u001b[0;34m=\u001b[0m \u001b[0mU\u001b[0m\u001b[0;34m.\u001b[0m\u001b[0mintersect\u001b[0m\u001b[0;34m(\u001b[0m\u001b[0mcond\u001b[0m\u001b[0;34m.\u001b[0m\u001b[0mas_set\u001b[0m\u001b[0;34m(\u001b[0m\u001b[0;34m)\u001b[0m\u001b[0;34m)\u001b[0m\u001b[0;34m\u001b[0m\u001b[0m\n\u001b[1;32m    973\u001b[0m             \u001b[0mU\u001b[0m \u001b[0;34m=\u001b[0m \u001b[0mU\u001b[0m \u001b[0;34m-\u001b[0m \u001b[0mcond_int\u001b[0m\u001b[0;34m\u001b[0m\u001b[0m\n",
            "\u001b[0;31mValueError\u001b[0m: \nInequalities in the complex domain are not supported. Try the real\ndomain by setting domain=S.Reals"
          ]
        }
      ]
    },
    {
      "metadata": {},
      "cell_type": "markdown",
      "source": "### **Exercicio 5.3** \nAnaliza a continuidade da función \n$$\nf(x,y)=\n\\begin{cases}\n\\displaystyle\\frac{1}{xy} & \\text{se }x\\neq 0, y\\neq 0,\\\\\n1 & \\text{noutro caso},\n\\end{cases}\n$$\nen calquera punto $(x,y)$ do plano"
    },
    {
      "metadata": {
        "trusted": true
      },
      "cell_type": "code",
      "source": "# O TEU CÓDIGO AQUÍ",
      "execution_count": 25,
      "outputs": []
    }
  ],
  "metadata": {
    "kernelspec": {
      "name": "python36",
      "display_name": "Python 3.6",
      "language": "python"
    },
    "language_info": {
      "mimetype": "text/x-python",
      "nbconvert_exporter": "python",
      "name": "python",
      "pygments_lexer": "ipython3",
      "version": "3.6.6",
      "file_extension": ".py",
      "codemirror_mode": {
        "version": 3,
        "name": "ipython"
      }
    }
  },
  "nbformat": 4,
  "nbformat_minor": 2
}