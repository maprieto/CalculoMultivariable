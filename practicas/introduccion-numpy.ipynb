{
  "cells": [
    {
      "metadata": {},
      "cell_type": "markdown",
      "source": "# Introducción\n\nO traballo con números é unha das cuestións comúns e centais en calquere disciplina científica e en particular en enxeñaría de datos. Debido á súa importancia existen unha gran cantidade de librarías dedicadas á implementación de métodos eficientes para manipular números e funcións. Incluso existen linguaxes e entornos de programación especialmente deseñados para este propósito, tales como a linguaxe Fortran ou Matlab/Octave.\n\nPara a linguaxe Python, que será  a que usaremos no presente curso de *Cálculo Multivariable*, a libraría **NumPy** (http://www.numpy.org/) é a máis amplamente usada para cálculos numéricos.  Esta librería usar un amplo abano de estruturas de datos e funcións para os cálculos numéricos. Neste guión de prácticas, revisaranse algunhas destas funcionalidades. \n\n**NumPy** é unha librería enorme e ten funcionalidades moi extensas. Este guión de prácticas soamente reprensenta unha introducción moi breve. Para descrubrir máis funcionalidades e como utilizala con moitos outros propósitos, a mellor fonte de información en liña son os buscadores, e en particular a comunidade http://stackoverflow.com/.\n\nPara empregar directamente este guión de prácticas dende unha instalación de Python con *Anaconda*, basta con facer clic na aplicación 'Jupyter notebook' que xa está instalada por defecto (para máis detalles: https://jupyter-notebook-beginner-guide.readthedocs.io/en/latest/execute.html).\n\n\n## Obxectivos\n\n- Traballar con obxectos e métodos\n- Introduccion aos vectores unidimensionais de números (`numpy.array`) \n- Aplicar operacións numéricas elementais\n- Manipulación de vectores numéricos (indexado, troceado, etc)\n- Exercicio: eficiencia de **Numpy** en funcións vectorizadas e non vectorizadas"
    },
    {
      "metadata": {},
      "cell_type": "markdown",
      "source": "# Importar o módulo **NumPy**\n\nPara ter dispoñible **NumPy** no código, débese primeiro importar o seu módulo. Para facer isto, fíxose unha costume moi extendida, importar **Numpy** usando o atallo '`np`': "
    },
    {
      "metadata": {
        "trusted": true
      },
      "cell_type": "code",
      "source": "import numpy as np",
      "execution_count": 1,
      "outputs": []
    },
    {
      "metadata": {},
      "cell_type": "markdown",
      "source": "# Programación orientada a obxectos\n\nComo todos os módulos de Python, a libraría **Numpy** está implementada seguindo unha estratexía de programación orientada a obxectos. Polo tanto, calquera estrutura de datos en Python, incluso a máis simple, débese entender como un obxecto que pertence a unha clase, e todas as operaciós que podemos facer con estes obxectos, son métodos implementados sobre esa clase de obxectos. Incluso un número, é un obxecto dunha clase:"
    },
    {
      "metadata": {
        "trusted": false
      },
      "cell_type": "code",
      "source": "a = 3.4\nprint(a)\nprint(type(a))\nisinstance(a,float)",
      "execution_count": 2,
      "outputs": [
        {
          "name": "stdout",
          "output_type": "stream",
          "text": "3.4\n<type 'float'>\n"
        },
        {
          "data": {
            "text/plain": "True"
          },
          "execution_count": 2,
          "metadata": {},
          "output_type": "execute_result"
        }
      ]
    },
    {
      "metadata": {},
      "cell_type": "markdown",
      "source": "Para comprobar os atributos e os métodos que podemos aplicar sobre un obxecto en particular, podemos empregar a función `dir()`, que nos devolve unha lista cos seus nomes. Como se pode ver na lista, podemos distinguir dos tipos de atributos e métodos: aqueles que van co prefixo e sufixo `__*__` e aqueles que non. Os do primeiro tipo, denóminanse **privados** e habitualmente fan referencia aos cálculos máis básicos que se poden realizar dentro da clase á que pertence o obxecto."
    },
    {
      "metadata": {
        "trusted": false
      },
      "cell_type": "code",
      "source": "dir(a)",
      "execution_count": 3,
      "outputs": [
        {
          "data": {
            "text/plain": "['__abs__',\n '__add__',\n '__class__',\n '__coerce__',\n '__delattr__',\n '__div__',\n '__divmod__',\n '__doc__',\n '__eq__',\n '__float__',\n '__floordiv__',\n '__format__',\n '__ge__',\n '__getattribute__',\n '__getformat__',\n '__getnewargs__',\n '__gt__',\n '__hash__',\n '__init__',\n '__int__',\n '__le__',\n '__long__',\n '__lt__',\n '__mod__',\n '__mul__',\n '__ne__',\n '__neg__',\n '__new__',\n '__nonzero__',\n '__pos__',\n '__pow__',\n '__radd__',\n '__rdiv__',\n '__rdivmod__',\n '__reduce__',\n '__reduce_ex__',\n '__repr__',\n '__rfloordiv__',\n '__rmod__',\n '__rmul__',\n '__rpow__',\n '__rsub__',\n '__rtruediv__',\n '__setattr__',\n '__setformat__',\n '__sizeof__',\n '__str__',\n '__sub__',\n '__subclasshook__',\n '__truediv__',\n '__trunc__',\n 'as_integer_ratio',\n 'conjugate',\n 'fromhex',\n 'hex',\n 'imag',\n 'is_integer',\n 'real']"
          },
          "execution_count": 3,
          "metadata": {},
          "output_type": "execute_result"
        }
      ]
    },
    {
      "metadata": {},
      "cell_type": "markdown",
      "source": "Por exemplo, podemos comprobar un número real é maior que outro de dous xeitos diferentes: usando o operador lóxico `>` ou ben usando o seu método privado `__ge__`: "
    },
    {
      "metadata": {
        "trusted": true
      },
      "cell_type": "code",
      "source": "a=3.4; b=1.3\nprint(a.__add__(b))\nprint(a + b)",
      "execution_count": 2,
      "outputs": [
        {
          "output_type": "stream",
          "text": "4.7\n4.7\n",
          "name": "stdout"
        }
      ]
    },
    {
      "metadata": {},
      "cell_type": "markdown",
      "source": "En calquera caso, en Python tanto os métodos privados como públicos empréganse do mesmo xeito. Por exemplo:"
    },
    {
      "metadata": {
        "trusted": true
      },
      "cell_type": "code",
      "source": "a=3.4\nprint(type(a))\nprint(a.is_integer())\nb=a.__int__()\nprint(b)\nprint(type(b))\nprint(np.int(a))\ndir(b)",
      "execution_count": 3,
      "outputs": [
        {
          "output_type": "stream",
          "text": "<type 'float'>\nFalse\n3\n<type 'int'>\n3\n",
          "name": "stdout"
        },
        {
          "output_type": "execute_result",
          "execution_count": 3,
          "data": {
            "text/plain": "['__abs__',\n '__add__',\n '__and__',\n '__class__',\n '__cmp__',\n '__coerce__',\n '__delattr__',\n '__div__',\n '__divmod__',\n '__doc__',\n '__float__',\n '__floordiv__',\n '__format__',\n '__getattribute__',\n '__getnewargs__',\n '__hash__',\n '__hex__',\n '__index__',\n '__init__',\n '__int__',\n '__invert__',\n '__long__',\n '__lshift__',\n '__mod__',\n '__mul__',\n '__neg__',\n '__new__',\n '__nonzero__',\n '__oct__',\n '__or__',\n '__pos__',\n '__pow__',\n '__radd__',\n '__rand__',\n '__rdiv__',\n '__rdivmod__',\n '__reduce__',\n '__reduce_ex__',\n '__repr__',\n '__rfloordiv__',\n '__rlshift__',\n '__rmod__',\n '__rmul__',\n '__ror__',\n '__rpow__',\n '__rrshift__',\n '__rshift__',\n '__rsub__',\n '__rtruediv__',\n '__rxor__',\n '__setattr__',\n '__sizeof__',\n '__str__',\n '__sub__',\n '__subclasshook__',\n '__truediv__',\n '__trunc__',\n '__xor__',\n 'bit_length',\n 'conjugate',\n 'denominator',\n 'imag',\n 'numerator',\n 'real']"
          },
          "metadata": {}
        }
      ]
    },
    {
      "metadata": {},
      "cell_type": "markdown",
      "source": "> ** NOTA **: Neste curso non imos a traballar nin será necesario a implementación de código usando unha programación orientada ao obxecto. Pero o que si será necesario será tomar consciencia de cando se usan obxectos de diferentes clases e que atributos e métodos teñen definidos en cada caso"
    },
    {
      "metadata": {},
      "cell_type": "markdown",
      "source": "# Vectores de números\n\nEn Python existen multitude de formas de gardar datos numéricos (ou non) como poden ser a estrutura lista ou tupla. En particular, as listas poden conter unha secuencia finita de números ordeados (e usando un índice para acceder a cada un dos elementos da lista). Ademais, son o suficiente flexibles como para conter datos de diferente natureza (combinacións de números enteiros, reais, listas de listas, etc).\n\nPero esta flexibilidade das listas en Python fai que a seu rendemento computacional sexa moi limitado. Na maioría de apliacións científicas en matemáticas e enxeñaría de datos, os problemas reais involucran operacións sobre enormes conxuntos de datos e polo tanto a velocidade computacional é moi importante para estos grandes problemas. Para traballar de forma eficiente con estos problemas, **Numpy** proporciona funcións especializadas e estruturas de datos para o cálculo numérico eficiente. En particular, para o caso de arranxos de números dun mesmo tipo (perdendo parte da flexibilidade das listas pero gañando eficiencia computacional)."
    },
    {
      "metadata": {},
      "cell_type": "markdown",
      "source": "## Vectores unidimensionais\n\nUn vector unidimensional é unha colección ordeada de números que se pode acceder mediante un índice (co que se preserva a orde). Por defecto, os vectores en **Numpy** son vectores fila."
    },
    {
      "metadata": {},
      "cell_type": "markdown",
      "source": "### Creación de vectores e indexado \n\nPara crear un vector **Numpy** de lonxitude 10 e inicializado con ceros, empregaríase a función `np.zeros()`:"
    },
    {
      "metadata": {
        "trusted": true
      },
      "cell_type": "code",
      "source": "u = np.zeros(10)\nl = [0., 0., 0.]\nprint(l)\nprint(type(l))\nprint(u)\nprint(type(u))",
      "execution_count": 8,
      "outputs": [
        {
          "output_type": "stream",
          "text": "[0.0, 0.0, 0.0]\n<type 'list'>\n[0. 0. 0. 0. 0. 0. 0. 0. 0. 0.]\n<type 'numpy.ndarray'>\n",
          "name": "stdout"
        }
      ]
    },
    {
      "metadata": {},
      "cell_type": "markdown",
      "source": "O tipo por defecto dos número que conteñen os vectores en **Numpy** é `float64` (que é o tipo gardado en `np.float`). De querer usar outros tipos, habería que empregar o argumento opcional `dtype`. O tipo dos números que contén un vector pódese comprobar accedendo ao atributo `dtype` dos vectores **Numpy**:"
    },
    {
      "metadata": {
        "trusted": true
      },
      "cell_type": "code",
      "source": "print(u.dtype)\nw = np.zeros(5, dtype=np.int)\nprint(w)\nprint(type(w))\nprint(w.dtype)",
      "execution_count": 10,
      "outputs": [
        {
          "output_type": "stream",
          "text": "float64\n[0 0 0 0 0]\n<type 'numpy.ndarray'>\nint64\n",
          "name": "stdout"
        }
      ]
    },
    {
      "metadata": {},
      "cell_type": "markdown",
      "source": "O que non é posible por exemplo é engadir un valor cadea de texto (de tipo `string`) a un obxecto `numpy.ndarray`, xa que todas os elementos do vector deben ser do mesmo tipo (ou dun tipo que admita unha conversión) e deben ter tamén o mesmo tamaño. Para comprobar o tamaño dun vector, pódese usar a función `len`:"
    },
    {
      "metadata": {
        "trusted": true
      },
      "cell_type": "code",
      "source": "print(len(u))\nv = np.zeros(10, dtype=np.int)\nprint(u + v) # Implicitamente faise unha conversión de tipo de int64 a float64\nprint(u + w) # ERRO: Os vectores non teñen o mesmo tamaño!",
      "execution_count": 11,
      "outputs": [
        {
          "output_type": "stream",
          "text": "10\n[0. 0. 0. 0. 0. 0. 0. 0. 0. 0.]\n",
          "name": "stdout"
        },
        {
          "output_type": "error",
          "ename": "ValueError",
          "evalue": "operands could not be broadcast together with shapes (10,) (5,) ",
          "traceback": [
            "\u001b[0;31m\u001b[0m",
            "\u001b[0;31mValueError\u001b[0mTraceback (most recent call last)",
            "\u001b[0;32m<ipython-input-11-13b0f83bf556>\u001b[0m in \u001b[0;36m<module>\u001b[0;34m()\u001b[0m\n\u001b[1;32m      2\u001b[0m \u001b[0mv\u001b[0m \u001b[0;34m=\u001b[0m \u001b[0mnp\u001b[0m\u001b[0;34m.\u001b[0m\u001b[0mzeros\u001b[0m\u001b[0;34m(\u001b[0m\u001b[0;36m10\u001b[0m\u001b[0;34m,\u001b[0m \u001b[0mdtype\u001b[0m\u001b[0;34m=\u001b[0m\u001b[0mnp\u001b[0m\u001b[0;34m.\u001b[0m\u001b[0mint\u001b[0m\u001b[0;34m)\u001b[0m\u001b[0;34m\u001b[0m\u001b[0m\n\u001b[1;32m      3\u001b[0m \u001b[0;32mprint\u001b[0m\u001b[0;34m(\u001b[0m\u001b[0mu\u001b[0m \u001b[0;34m+\u001b[0m \u001b[0mv\u001b[0m\u001b[0;34m)\u001b[0m \u001b[0;31m# Implicitamente faise unha conversión de tipo de int64 a float64\u001b[0m\u001b[0;34m\u001b[0m\u001b[0m\n\u001b[0;32m----> 4\u001b[0;31m \u001b[0;32mprint\u001b[0m\u001b[0;34m(\u001b[0m\u001b[0mu\u001b[0m \u001b[0;34m+\u001b[0m \u001b[0mw\u001b[0m\u001b[0;34m)\u001b[0m \u001b[0;31m# ERRO: Os vectores non teñen o mesmo tamaño!\u001b[0m\u001b[0;34m\u001b[0m\u001b[0m\n\u001b[0m",
            "\u001b[0;31mValueError\u001b[0m: operands could not be broadcast together with shapes (10,) (5,) "
          ]
        }
      ]
    },
    {
      "metadata": {},
      "cell_type": "markdown",
      "source": "Unha forma máis específica de comprobar a dimensión dun vector é usar `u.shape`, que nos devolve unha tupla coas dimensións do vector:"
    },
    {
      "metadata": {
        "trusted": false
      },
      "cell_type": "code",
      "source": "print(u.shape)",
      "execution_count": 9,
      "outputs": [
        {
          "name": "stdout",
          "output_type": "stream",
          "text": "(10,)\n"
        }
      ]
    },
    {
      "metadata": {},
      "cell_type": "markdown",
      "source": "`shape` nos informa sobre o tamaño do vector en *cada* dirección. No caso dos vectores, soamente hai unha única dirección, mentres que en conxuntos de datos con múltiples índices (matrices, ou tensores $n$-dimensionais) `shape` nos informaría do tamaño destas estrutura de datos en cada dirección. Por exemplo, para crear unha matriz de ceros de tipo enteiro de tamaño $2\\times 3$:"
    },
    {
      "metadata": {
        "trusted": true
      },
      "cell_type": "code",
      "source": "A =  np.zeros((2,3,3,4), dtype=np.int)\nprint(A)\nprint(A.shape)",
      "execution_count": 12,
      "outputs": [
        {
          "output_type": "stream",
          "text": "[[[[0 0 0 0]\n   [0 0 0 0]\n   [0 0 0 0]]\n\n  [[0 0 0 0]\n   [0 0 0 0]\n   [0 0 0 0]]\n\n  [[0 0 0 0]\n   [0 0 0 0]\n   [0 0 0 0]]]\n\n\n [[[0 0 0 0]\n   [0 0 0 0]\n   [0 0 0 0]]\n\n  [[0 0 0 0]\n   [0 0 0 0]\n   [0 0 0 0]]\n\n  [[0 0 0 0]\n   [0 0 0 0]\n   [0 0 0 0]]]]\n(2, 3, 3, 4)\n",
          "name": "stdout"
        }
      ]
    },
    {
      "metadata": {},
      "cell_type": "markdown",
      "source": "We can change the entries of an array using indexing,"
    },
    {
      "metadata": {
        "trusted": true
      },
      "cell_type": "code",
      "source": "print(u)\nu[1] = 60.0\nu[3] = 7.3\nu[9] = 1.05\nprint(u)",
      "execution_count": 13,
      "outputs": [
        {
          "output_type": "stream",
          "text": "[0. 0. 0. 0. 0. 0. 0. 0. 0. 0.]\n[ 0.   60.    0.    7.3   0.    0.    0.    0.    0.    1.05]\n",
          "name": "stdout"
        }
      ]
    },
    {
      "metadata": {},
      "cell_type": "markdown",
      "source": "> **NOTA IMPORTANTE **: Hai que lembrar que os valores dos índices comezan en cero!\n\nEvidentemente, existen outras maneiras de crear vectores, como por exemplo o uso da función `ones` para crear un vector que contén soamente 'uns':"
    },
    {
      "metadata": {
        "trusted": false
      },
      "cell_type": "code",
      "source": "w = np.ones(5)\nprint(w)\nprint(w.dtype)",
      "execution_count": 12,
      "outputs": [
        {
          "name": "stdout",
          "output_type": "stream",
          "text": "[ 1.  1.  1.  1.  1.]\nfloat64\n"
        }
      ]
    },
    {
      "metadata": {},
      "cell_type": "markdown",
      "source": "ou un vector de valores aleatorios:"
    },
    {
      "metadata": {
        "trusted": true
      },
      "cell_type": "code",
      "source": "w = 2. * np.random.rand(6)\nprint(w)",
      "execution_count": 17,
      "outputs": [
        {
          "output_type": "stream",
          "text": "[1.35244572 0.73274269 1.91109042 1.84149312 1.96214641 0.08330237]\n",
          "name": "stdout"
        }
      ]
    },
    {
      "metadata": {},
      "cell_type": "markdown",
      "source": "ou tamént un vector de números de tipo `numpy.array` a partir dunha lista Python de números:"
    },
    {
      "metadata": {
        "trusted": true
      },
      "cell_type": "code",
      "source": "u = [4.0, 8.0, 9.0, 11.0, -2.0]\nprint(type(u))\nv = np.array(u)\nprint(v)\nprint(type(v))",
      "execution_count": 15,
      "outputs": [
        {
          "output_type": "stream",
          "text": "<type 'list'>\n[ 4.  8.  9. 11. -2.]\n<type 'numpy.ndarray'>\n",
          "name": "stdout"
        }
      ]
    },
    {
      "metadata": {},
      "cell_type": "markdown",
      "source": "Existen outros dous métodos para crear vectores de números que nos serán de utilidade ao longo do curso (e en particular cando teñamos que pintar funcións nunha ou en varias variables):\n- `numpy.arange` \n- `numpy.linspace`\n\nA función `arange` crea un vector con valores enteiros consecutivos (de forma semellante á función de Python `range`). Para crear o vector fila $\\vec{u}=(0, 1, 2, 3, 4, 5)$ usando `arange`:"
    },
    {
      "metadata": {
        "trusted": false
      },
      "cell_type": "code",
      "source": "u = np.arange(6)\nprint(u)\nprint(type(u))\nprint(u.dtype)",
      "execution_count": 15,
      "outputs": [
        {
          "name": "stdout",
          "output_type": "stream",
          "text": "[0 1 2 3 4 5]\n<type 'numpy.ndarray'>\nint64\n"
        }
      ]
    },
    {
      "metadata": {},
      "cell_type": "markdown",
      "source": "Podemos comprobar que o número $6$ non está incluido xa que o rango de valores comeza en $0$ e o vector soamente posúe seis elementos. Para cambiar o valor numérico no que comeza o vector:"
    },
    {
      "metadata": {
        "trusted": false
      },
      "cell_type": "code",
      "source": "u = np.arange(2, 6)\nprint(u)",
      "execution_count": 16,
      "outputs": [
        {
          "name": "stdout",
          "output_type": "stream",
          "text": "[2 3 4 5]\n"
        }
      ]
    },
    {
      "metadata": {},
      "cell_type": "markdown",
      "source": "A función `linspace` crea un vector de números equiespaciados cun un valor inicial e final (ambos incluídos) e cun tamaño determinado:"
    },
    {
      "metadata": {
        "trusted": false
      },
      "cell_type": "code",
      "source": "w = np.linspace(0., 100., 6)\nprint(w)\nprint(w.dtype)",
      "execution_count": 17,
      "outputs": [
        {
          "name": "stdout",
          "output_type": "stream",
          "text": "[   0.   20.   40.   60.   80.  100.]\nfloat64\n"
        }
      ]
    },
    {
      "metadata": {},
      "cell_type": "markdown",
      "source": "Esta función `linspace` xunto coa función `meshgrid` usarase de forma extensiva para pintar funcións de unha e de varias variables ao longo deste curso."
    },
    {
      "metadata": {},
      "cell_type": "markdown",
      "source": "### Funcións e aritmética sobre vectores\n\nOs vectores en **NumPy** soportan as operacións aritmética básica tales como o produto, sumas e restas:"
    },
    {
      "metadata": {
        "trusted": true
      },
      "cell_type": "code",
      "source": "a = np.array([1.0, 0.2, 1.2])\nb = np.array([2.0, 0.1, 2.1])\nprint(a)\nprint(b)\n\n# Suma de a e b\nc = a + b\nc  = a.__add__(b)\nprint(c)",
      "execution_count": 18,
      "outputs": [
        {
          "output_type": "stream",
          "text": "[1.  0.2 1.2]\n[2.  0.1 2.1]\n[3.  0.3 3.3]\n",
          "name": "stdout"
        }
      ]
    },
    {
      "metadata": {},
      "cell_type": "markdown",
      "source": "e no caso do producto dos seus elementos por un valor escalar,"
    },
    {
      "metadata": {
        "trusted": false
      },
      "cell_type": "code",
      "source": "c = 10.0*a\nprint(c)",
      "execution_count": 19,
      "outputs": [
        {
          "name": "stdout",
          "output_type": "stream",
          "text": "[ 10.   2.  12.]\n"
        }
      ]
    },
    {
      "metadata": {},
      "cell_type": "markdown",
      "source": "e elevar as súas compoñentes a unha potencia:"
    },
    {
      "metadata": {
        "trusted": false
      },
      "cell_type": "code",
      "source": "a = np.array([2, 3, 4])\nprint(a**2)",
      "execution_count": 20,
      "outputs": [
        {
          "name": "stdout",
          "output_type": "stream",
          "text": "[ 4  9 16]\n"
        }
      ]
    },
    {
      "metadata": {},
      "cell_type": "markdown",
      "source": "Tamén se poden aplicar as funcións de cálculo usual a cada unha das súas compoñentes:"
    },
    {
      "metadata": {
        "trusted": false
      },
      "cell_type": "code",
      "source": "# Crear un vector [0, π/2, π, 3π/2]\na = np.array([0.0, np.pi/2, np.pi, 3*np.pi/2])\nprint(a)\n\n# Calcular o seno de cada compoñente do vector\nb = np.sin(a)\nprint(b)",
      "execution_count": 21,
      "outputs": [
        {
          "name": "stdout",
          "output_type": "stream",
          "text": "[ 0.          1.57079633  3.14159265  4.71238898]\n[  0.00000000e+00   1.00000000e+00   1.22464680e-16  -1.00000000e+00]\n"
        }
      ]
    },
    {
      "metadata": {},
      "cell_type": "markdown",
      "source": "O anteior código calcula o seno de cada coeficiente do vector `a`. Debemos remarcar que a función que se está a usar é `np.sin`, que depende directamente do módulo **Numpy**. O uso de calquera outra implementación da función noutros módulos (por exemplo no módulo **Math**), podería dar lugar a erro."
    },
    {
      "metadata": {},
      "cell_type": "markdown",
      "source": "Evidentemente, tamén poderíamos calcular o seno de cada coeficiente do vector, accedendo a cada un dos elementos mediante o seu índice e facendo os cálculos no interior dun bucle `for`:"
    },
    {
      "metadata": {
        "trusted": false
      },
      "cell_type": "code",
      "source": "b = np.zeros(len(a))\nfor i in range(len(a)):\n    b[i] = np.sin(a[i])\n\nprint(b)",
      "execution_count": 24,
      "outputs": [
        {
          "name": "stdout",
          "output_type": "stream",
          "text": "[  0.00000000e+00   1.00000000e+00   1.22464680e-16  -1.00000000e+00]\n"
        }
      ]
    },
    {
      "metadata": {},
      "cell_type": "markdown",
      "source": "Neste caso o programa é máis longo e difícil de ler. Ademais, en moitos casos será máis lento. Á manipulación de vectores e calquera dos cálculos realizados entre eles sen acceder aos índices nos referiremos como 'vectorización'. Cando sexa posible, empregar vectorización incrementará o rendemento e velocidade dos códigos de cálculo. No exercicio final deste guión, analizarase o rendemento deste tipo de técnicas."
    },
    {
      "metadata": {},
      "cell_type": "markdown",
      "source": "# Troceado de vectores\n\nCando se traballa con vectores de números, é habitual ter que extraer un subconxunto destes para crear un novo vector. Por exemplo, obter os tres primeiros coeficientes dun vector ou no caso de matrices, restrinxir os cálculos á súa segunda columna. Este tipo de operacións é o que se denomina troceado de vectores (ou en inglés *array slicing*). \n\nImos a explorar isto mediante varios exemplos, comezando por traballar cun vector de valores aleatorios:"
    },
    {
      "metadata": {
        "trusted": false
      },
      "cell_type": "code",
      "source": "a = np.random.rand(5)\nprint(a)",
      "execution_count": 25,
      "outputs": [
        {
          "name": "stdout",
          "output_type": "stream",
          "text": "[ 0.44655442  0.97251814  0.63498149  0.31135886  0.77509646]\n"
        }
      ]
    },
    {
      "metadata": {},
      "cell_type": "markdown",
      "source": "No que segue, imos a facer varias operacións de troceado:"
    },
    {
      "metadata": {
        "trusted": false
      },
      "cell_type": "code",
      "source": "# Usar ':' implica o conxunto enterio no rango dos índices, é dicir, dende 0 ata (lonxitude-1)\nb = a[:]\nprint(\"Troceado usando '[:]' {}\".format(b))\n\n# Usar '1:3' implica os índices 1 -> 3 (sen incluir a 3)\nb = a[1:3]\nprint(\"Troceado usando '[1:3]': {}\".format(b))\n\n# Usar '2:-1' implica os índices 2 -> o segundo dende o final (sen incluílo)\nb = a[2:-1]\nprint(\"Troceado usando '[2:-1]': {}\".format(b))\n\n# Usar '2:-2' implica os índices 2 -> o terceiro dende o final (sen incluílo)\nb = a[2:-2]\nprint(\"Troceado usando '[2:-2]': {}\".format(b))",
      "execution_count": 26,
      "outputs": [
        {
          "name": "stdout",
          "output_type": "stream",
          "text": "Troceado usando '[:]' [ 0.44655442  0.97251814  0.63498149  0.31135886  0.77509646]\nTroceado usando '[1:3]': [ 0.97251814  0.63498149]\nTroceado usando '[2:-1]': [ 0.63498149  0.31135886]\nTroceado usando '[2:-2]': [ 0.63498149]\n"
        }
      ]
    },
    {
      "metadata": {},
      "cell_type": "markdown",
      "source": "> **NOTA**: o uso de índice `-1`, correspóndese co último elemento do vector. Do mesmo xeito, o índice `-2` está vinculado ao segundo elemento comezando polo final, etc. Este convenio de referenciar índices dende o final dun vector é moi útil xa co uso destes índices negativos, pódese facer referencia aos últimos coeficientes dun vector sen ter que facer referencia expresa ao tamaño do vector."
    },
    {
      "metadata": {},
      "cell_type": "markdown",
      "source": "Se o que se quere é trocear un vector dende o comezo ou dende o final do mesmo, hay que empregar a sintaxe de índices con '`:`'"
    },
    {
      "metadata": {
        "trusted": false
      },
      "cell_type": "code",
      "source": "# Usar ':3' implica usar índices dende o comezo ata 3 (sen incluir o índice 3)\nb = a[:3]\nprint(\"Troceado usando '[:3]': {}\".format(b))\n\n# Usar '4:' imlica os índices dende 4 -> ata o final\nb = a[4:]\nprint(\"Troceado usando '[4:]': {}\".format(b))\n\n# Usar ':' implica todos os índices dende o comezo ata o final\nb = a[:]\nprint(\"Troceado usando '[:]': {}\".format(b))",
      "execution_count": 27,
      "outputs": [
        {
          "name": "stdout",
          "output_type": "stream",
          "text": "Troceado usando '[:3]': [ 0.44655442  0.97251814  0.63498149]\nTroceado usando '[4:]': [ 0.77509646]\nTroceado usando '[:]': [ 0.44655442  0.97251814  0.63498149  0.31135886  0.77509646]\n"
        }
      ]
    },
    {
      "metadata": {},
      "cell_type": "markdown",
      "source": "O troceado tamén se pode aplicar sobre matrices:"
    },
    {
      "metadata": {
        "trusted": false
      },
      "cell_type": "code",
      "source": "B = np.array([[1.3, 0], [0, 2.0]])\nprint(B)\n\n# Extraer a segunda fila\nrow = B[1, :]\nprint(row)\n\n# Extraer a primeira columna (almacenada nun vector fila)\ncol = B[:, 0] \nprint(col)",
      "execution_count": 28,
      "outputs": [
        {
          "name": "stdout",
          "output_type": "stream",
          "text": "[[ 1.3  0. ]\n [ 0.   2. ]]\n[ 0.  2.]\n[ 1.3  0. ]\n"
        }
      ]
    },
    {
      "metadata": {},
      "cell_type": "markdown",
      "source": "Existe moitas outras estratexias e sintaxe relacionada co troceado de vectores, que quedan fora do alcance desta introdución breve a **Numpy**. Para unha información máis detallada, pódese consultar: https://docs.scipy.org/doc/numpy/reference/arrays.indexing.html"
    },
    {
      "metadata": {},
      "cell_type": "markdown",
      "source": "# Exercicio: aceleración con Numpy no cálculo de normas de vectores\n\nA norma euclídea (ou módulo) dun vector $\\vec{x}=(x_{0},\\ldots,x_{n-1})\\in\\mathbb{R}^{n}$ ven dada por \n\n$$\n\\| x \\| = \\sqrt{\\sum_{i=0}^{n-1} x_{i} x_{i}}\n$$\n\nonde $x_{i}$ é o $i$-ésimo coeficiente de $\\vec{x}$. En resumo, a súa norma non é máis que o cálculo do produto interior por si mesmo, seguido polo cálculo dunha raíz cadrada. Para calcular o valor da norma, pódense seguir diferentes estratexias: a primeira delas pode ser usar un bucle para recorrer todos os coeficientes do vector e sumar o cadrado de cada coeficiente. Logo coller a suma de todas estas cantidades e calcular a raíz cadrada.\n\nPara avaliar o rendemento computacional desta implementación, collerase un vector de lonxitude 10 millóns e calcularemos o tempo de cálculo:"
    },
    {
      "metadata": {
        "trusted": true
      },
      "cell_type": "code",
      "source": "# Crear un vector NumPy con 10 millóns de valores aleatorios\nx = np.random.rand(10000000)\nprint(type(x))",
      "execution_count": 19,
      "outputs": [
        {
          "output_type": "stream",
          "text": "<type 'numpy.ndarray'>\n",
          "name": "stdout"
        }
      ]
    },
    {
      "metadata": {
        "trusted": true
      },
      "cell_type": "code",
      "source": "def compute_norm(x):\n    norm = 0.0\n    for xi in x:\n        norm += xi*xi\n    return np.sqrt(norm)\n\n%time norm = compute_norm(x)\nprint(norm)",
      "execution_count": null,
      "outputs": []
    },
    {
      "metadata": {},
      "cell_type": "markdown",
      "source": "O tempo de cálculo que nos interesa é o que aparece baixo a etiqueta '`Wall time`'.\n\n> ** NOTA **: Os detalle de como a etiqueta `%time` traballa neste guión non é de importancia neste curso. Debemos indicar que esta forma de proceder é unicamente válida para consolas ou ficheiros que se executen baixo [I]Python e entornos de servidores Jupyter. Esta forma de traballar é moi compact e conveniente para medir o tempo que se require para completar a execución dunha liña de código."
    },
    {
      "metadata": {},
      "cell_type": "markdown",
      "source": "### **Exercicio 1.1** \nUsando a mesma implementación baseada nun bucle, accede a cada elemento do vector polo seu índice comezando dende o primeiro ata o último. Fai o mesmo cun bucle que acceda en orde inverso, dende o último ata o primeiro."
    },
    {
      "metadata": {
        "trusted": false
      },
      "cell_type": "code",
      "source": "# O TEU CÓDIGO AQUÍ\n",
      "execution_count": 31,
      "outputs": []
    },
    {
      "metadata": {},
      "cell_type": "markdown",
      "source": "### **Exercicio 1.2** \nTrata de empregar funcións **Numpy** para definir unha función que evite o bucle sobre os coeficientes do vector e que non acceda elemento a elemento no vector (versión vectorizada)."
    },
    {
      "metadata": {
        "trusted": false
      },
      "cell_type": "code",
      "source": "# O TEU CÓDIGO AQUÍ\n",
      "execution_count": 32,
      "outputs": []
    },
    {
      "metadata": {},
      "cell_type": "markdown",
      "source": "### **Exercicio 1.3** \nCompara os tempos de cálculo das catro implementacións para diferentes dimensións do vector $\\vec{x}$, de tamaños $10$, $10^3$, $10^5$, $10^7$. A partir destes tempos de cálculo: que se pode deducir como conclusión?"
    },
    {
      "metadata": {
        "trusted": false
      },
      "cell_type": "code",
      "source": "# O TEU CÓDIGO AQUÍ\n",
      "execution_count": 33,
      "outputs": []
    }
  ],
  "metadata": {
    "kernelspec": {
      "name": "python2",
      "display_name": "Python 2",
      "language": "python"
    },
    "language_info": {
      "mimetype": "text/x-python",
      "nbconvert_exporter": "python",
      "name": "python",
      "pygments_lexer": "ipython2",
      "version": "2.7.15",
      "file_extension": ".py",
      "codemirror_mode": {
        "version": 2,
        "name": "ipython"
      }
    }
  },
  "nbformat": 4,
  "nbformat_minor": 4
}