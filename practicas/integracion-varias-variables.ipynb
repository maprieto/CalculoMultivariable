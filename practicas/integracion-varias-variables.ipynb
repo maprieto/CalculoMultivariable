{
  "cells": [
    {
      "metadata": {},
      "cell_type": "markdown",
      "source": "# Integración de funcións de varias variables en 2 e 3 dimensións\n\nO cálculo de integrais indefinidas (primitivas) de funcións dunha única variable pódese entender como desandar o camiño feito no cálculo dunha derivada. O mesmo se pode entender de maneira informal ao cálcular integrais indefinidas de funcións de varias variables. De feito, grazas á regra de Barrow aplicada a cada unha das integrais, é doado calcular o valor das integrais iteradas en varias variables. Este mesmo proceso é o que seguiremos usando o módulo **Sympy**. Ademais, destes cálculos, tamén revisaremos a interpretación xeométrica das integrais de varias variables, mediante o concepto de área dunha superficie e o volume dun sólido.\n\nNesta práctica volveremos a usar o módulo **Sympy** para calcular integrais e para representar as funcións empregaremos os módulos **Matplotlib** e **Numpy**. \n\n### Obxectivos:\n\n- Cálculo de primitivas e integrais definidas de funcións dunha variable\n- Cálculo de integrais de función de varias variables: integrais iteradas\n- Comprobación do Teorema de Fubini \n- Cálculo de áreas de superficies e volumes de sólidos"
    },
    {
      "metadata": {},
      "cell_type": "markdown",
      "source": "Nesta práctica usaremos tanto o módulo **Sympy**, como tamén **Numpy** e **Matplotlib**. Así que debemos importalos para o resto do guión de prácticas:"
    },
    {
      "metadata": {
        "trusted": true
      },
      "cell_type": "code",
      "source": "import sympy as sp\nimport numpy as np\nimport matplotlib.pyplot as plt\n%matplotlib inline",
      "execution_count": 1,
      "outputs": []
    },
    {
      "metadata": {},
      "cell_type": "markdown",
      "source": "## Cálculo de primitivas e integrais definidas de funcións dunha variable\n\nO cálculo de integrais é moi sinxelo usando **Sympy**: basta usar o comando ``sp.integrate``. Vexamos isto cun exemplo no que se pretende calcular unha primitiva da función $f(x)=x^2+3$:"
    },
    {
      "metadata": {
        "trusted": true
      },
      "cell_type": "code",
      "source": "x = sp.symbols('x', real=True) # define as variables simbólicas x\nF = sp.integrate(x**2+3,x)\ndisplay(F)",
      "execution_count": 5,
      "outputs": [
        {
          "output_type": "display_data",
          "data": {
            "text/latex": "$\\displaystyle \\frac{x^{3}}{3} + 3 x$",
            "text/plain": "x**3/3 + 3*x"
          },
          "metadata": {}
        }
      ]
    },
    {
      "metadata": {},
      "cell_type": "markdown",
      "source": "Debemos notar aquí que **Sympy** só calcula unha das infinitas primitivas que posúe a función $f(x)$. Para obtelas todas, debemos lembrarnos de engadir a suma da contante arbitraria $C$. Se pola contra precisamos calcular unha integral definida, por exemplo, $\\int_{0}^{1} f(x)dx$, empregaríamos o mesmo comando ``sp.integrate``, pero incluíndo o dominio de integración:"
    },
    {
      "metadata": {
        "trusted": true
      },
      "cell_type": "code",
      "source": "I = sp.integrate(x**2+3,(x,0,1))\ndisplay(I)",
      "execution_count": 3,
      "outputs": [
        {
          "output_type": "display_data",
          "data": {
            "text/latex": "$\\displaystyle \\frac{10}{3}$",
            "text/plain": "10/3"
          },
          "metadata": {}
        }
      ]
    },
    {
      "metadata": {},
      "cell_type": "markdown",
      "source": "## Cálculo de integrais de funcións de varias variables\n\nComo xa se comentou anteriormente, podemos realizar o cálculo de integrais indefinidas usando varias variables. Este cálculo se pode entender como o proceso de *desandar* o camiño feito na derivación. Por exemplo, se consideramos $f(x,y)=xy^2$ entón a súa integral con respecto ás variables $x$ e $y$ resultan:"
    },
    {
      "metadata": {
        "trusted": true
      },
      "cell_type": "code",
      "source": "x, y = sp.symbols('x y', real=True) # define as variables simbólicas x, y\nf = sp.Lambda((x,y), x*y**2)\n# Integral con respecto a x\nFx = sp.integrate(f(x,y),x)\ndisplay(Fx)\ndisplay(sp.diff(Fx,x))\n# Integral con respecto a y\nFy = sp.integrate(f(x,y),y)\ndisplay(Fy)\ndisplay(sp.diff(Fy,y))",
      "execution_count": 4,
      "outputs": [
        {
          "output_type": "display_data",
          "data": {
            "text/latex": "$\\displaystyle \\frac{x^{2} y^{2}}{2}$",
            "text/plain": "x**2*y**2/2"
          },
          "metadata": {}
        },
        {
          "output_type": "display_data",
          "data": {
            "text/latex": "$\\displaystyle x y^{2}$",
            "text/plain": "x*y**2"
          },
          "metadata": {}
        },
        {
          "output_type": "display_data",
          "data": {
            "text/latex": "$\\displaystyle \\frac{x y^{3}}{3}$",
            "text/plain": "x*y**3/3"
          },
          "metadata": {}
        },
        {
          "output_type": "display_data",
          "data": {
            "text/latex": "$\\displaystyle x y^{2}$",
            "text/plain": "x*y**2"
          },
          "metadata": {}
        }
      ]
    },
    {
      "metadata": {},
      "cell_type": "markdown",
      "source": "Como se pode comprobar, ao calcular as derivadas parciais destas integrais indefinidas recupérase a expresión orixinal do integrando.\n\nDo mesmo xeito, **Sympy** tamén é capaz de calcular integrais iteradas de funcións de varias variables. Por exemplo, para calcular\n$$\n\\int_{2}^{3}\\int_{1}^{x-1} (x^2+y^2)dydx,\n$$\nempregaríase:"
    },
    {
      "metadata": {
        "trusted": true
      },
      "cell_type": "code",
      "source": "f = sp.Lambda((x,y), x ** 2 + y ** 2)\nres = sp.integrate(f(x,y), (y, 1, x-1), (x, 2, 3))\ndisplay(res)",
      "execution_count": 5,
      "outputs": [
        {
          "output_type": "display_data",
          "data": {
            "text/latex": "$\\displaystyle \\frac{9}{2}$",
            "text/plain": "9/2"
          },
          "metadata": {}
        }
      ]
    },
    {
      "metadata": {},
      "cell_type": "markdown",
      "source": "A partir desta integral, podemos facer unha comprobación inmediata do teorema de Fubini tendo en conta que o recinto de integración pódese describir como\n$$\n\\mathcal{R}=\\{(x,y)\\in\\mathbb{R}^2: 1\\le y\\le x-1,\\ 2\\le x\\le 3\\}=\n\\{(x,y)\\in\\mathbb{R}^2: y+1\\le x\\le 3,\\ 1\\le y\\le 2\\},\n$$\ne polo tanto o Teorema de Fubini garante que\n$$\n\\int_{2}^{3}\\int_{1}^{x-1} (x^2+y^2)dydx = \\int_{1}^{2}\\int_{y+1}^{3} (x^2+y^2)dxdy.\n$$"
    },
    {
      "metadata": {
        "trusted": true
      },
      "cell_type": "code",
      "source": "res = sp.integrate(f(x,y), (x, y+1, 3), (y, 1, 2))\ndisplay(res)",
      "execution_count": 6,
      "outputs": [
        {
          "output_type": "display_data",
          "data": {
            "text/latex": "$\\displaystyle \\frac{9}{2}$",
            "text/plain": "9/2"
          },
          "metadata": {}
        }
      ]
    },
    {
      "metadata": {},
      "cell_type": "markdown",
      "source": "Do mesmo xeito, se poderían calcular integrais iteradas de tres ou máis variables, e o teorema de Fubini garante que a orde das variables na que se faga a integración non vai alterar o resultado.\n\n### **Exercicio 10.1** \nCalcula unha función de dúas variables $f(x,y)$ tal que satisfai:\n$$\n\\frac{\\partial f}{\\partial x}(x,y)=x^3y^2\\quad\\text{e}\\quad f(0,y)=y-1.\n$$"
    },
    {
      "metadata": {
        "trusted": true
      },
      "cell_type": "code",
      "source": "# O TEU CÓDIGO AQUÍ",
      "execution_count": 7,
      "outputs": []
    },
    {
      "metadata": {},
      "cell_type": "markdown",
      "source": "### **Exercicio 10.2** \nCalcula a seguinte integral dunha función de tres variables:\n$$\n\\int_{2}^{3}\\int_{1}^{x-1}\\int_{0}^{y^2-1} (x^2+zy^2)dzdydx.\n$$"
    },
    {
      "metadata": {
        "trusted": true
      },
      "cell_type": "code",
      "source": "# O TEU CÓDIGO AQUÍ",
      "execution_count": 8,
      "outputs": []
    },
    {
      "metadata": {},
      "cell_type": "markdown",
      "source": "## Cálculo de áreas de superficies e volumes de sólidos"
    },
    {
      "metadata": {},
      "cell_type": "markdown",
      "source": "Para ilustrar o cálculo de áreas de superficies e volumes de sólidos imos a calcular o área dun triángulo e o volume limitado por un paraboloide eliptico sobre un triángulo, empregando integrais de varias variables. En primeiro lugar, para o cálculo do área do triángulo rectángulo de vértices $(0,0)$, $(0,1)$ e $(1,1)$, poderíamos usar unha integral dunha función dunha variable, xa que o triángulo é o recinto encerrado pola gráfica de $f(x)=x$ e as rectas $x=0$ e $x=1$, ou ben integrando a constante $1$ no recinto bidimensional:\n$$\n\\mathcal{R}=\\{(x,y)\\in\\mathbb{R}^2: 0\\le y\\le x,\\ 0\\le x\\le 1\\}\n$$\n"
    },
    {
      "metadata": {
        "trusted": true
      },
      "cell_type": "code",
      "source": "x, y = sp.symbols('x y', real=True)\n# cálculo da integral dunha única variable\nA = sp.integrate(x, (x,0,1))\ndisplay(A)\n# cálculo da integral de dúas variables no recinto R\nB = sp.integrate(1, (y,0,x), (x,0,1))\ndisplay(B)",
      "execution_count": 9,
      "outputs": [
        {
          "output_type": "display_data",
          "data": {
            "text/latex": "$\\displaystyle \\frac{1}{2}$",
            "text/plain": "1/2"
          },
          "metadata": {}
        },
        {
          "output_type": "display_data",
          "data": {
            "text/latex": "$\\displaystyle \\frac{1}{2}$",
            "text/plain": "1/2"
          },
          "metadata": {}
        }
      ]
    },
    {
      "metadata": {},
      "cell_type": "markdown",
      "source": "Para o caso do cálculo do volume limitado polo paraboloide elíptico $z=x^2+y^2$ sobre o recinto triangular $\\mathcal{R}$ descrito anteriormente, podemos seguir dúas estratexias:"
    },
    {
      "metadata": {
        "trusted": true
      },
      "cell_type": "code",
      "source": "x, y, z = sp.symbols('x y z', real=True)\n# cálculo da integral de dúas variables\nA = sp.integrate(x**2+y**2, (y,0,x), (x,0,1))\ndisplay(A)\n# cálculo da integral de tres variables\nB = sp.integrate(1, (z,0,x**2+y**2), (y,0,x), (x,0,1))\ndisplay(B)",
      "execution_count": 10,
      "outputs": [
        {
          "output_type": "display_data",
          "data": {
            "text/latex": "$\\displaystyle \\frac{1}{3}$",
            "text/plain": "1/3"
          },
          "metadata": {}
        },
        {
          "output_type": "display_data",
          "data": {
            "text/latex": "$\\displaystyle \\frac{1}{3}$",
            "text/plain": "1/3"
          },
          "metadata": {}
        }
      ]
    },
    {
      "metadata": {},
      "cell_type": "markdown",
      "source": "### **Exercicio 10.3** \nA fórmula de Heron permite calcular o área dun triángulo de vértices arbitrarios, que se pode implementar do seguinte xeito:"
    },
    {
      "metadata": {
        "trusted": true
      },
      "cell_type": "code",
      "source": "def heron(p1,p2,p3):\n    a=sp.sqrt((p1[0]-p2[0])**2+(p1[1]-p2[1])**2)\n    b=sp.sqrt((p1[0]-p3[0])**2+(p1[1]-p3[1])**2)\n    c=sp.sqrt((p3[0]-p2[0])**2+(p3[1]-p2[1])**2)\n    s=(a+b+c)/sp.S('2')\n    return sp.sqrt(s*(s-a)*(s-b)*(s-c))",
      "execution_count": 11,
      "outputs": []
    },
    {
      "metadata": {},
      "cell_type": "markdown",
      "source": "Por exemplo, se queremos calcular o área do triángulo de vértices $(0,0)$, $(1,1)$ e $(1,2)$, resultaría"
    },
    {
      "metadata": {
        "trusted": true
      },
      "cell_type": "code",
      "source": "A = heron((0.,0.),(1.,1.),(1.,2.))\ndisplay(A)",
      "execution_count": 12,
      "outputs": [
        {
          "output_type": "display_data",
          "data": {
            "text/latex": "$\\displaystyle 0.5$",
            "text/plain": "0.500000000000000"
          },
          "metadata": {}
        }
      ]
    },
    {
      "metadata": {},
      "cell_type": "markdown",
      "source": "Emprega tres integrais diferentes (usando o teorema de Fubini) para calcular o área do triángulo anterior."
    },
    {
      "metadata": {
        "trusted": true
      },
      "cell_type": "code",
      "source": "# O TEU CÓDIGO AQUÍ",
      "execution_count": 13,
      "outputs": []
    }
  ],
  "metadata": {
    "kernelspec": {
      "name": "python36",
      "display_name": "Python 3.6",
      "language": "python"
    },
    "language_info": {
      "mimetype": "text/x-python",
      "nbconvert_exporter": "python",
      "name": "python",
      "pygments_lexer": "ipython3",
      "version": "3.6.6",
      "file_extension": ".py",
      "codemirror_mode": {
        "version": 3,
        "name": "ipython"
      }
    }
  },
  "nbformat": 4,
  "nbformat_minor": 2
}