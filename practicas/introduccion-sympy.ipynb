{
  "cells": [
    {
      "metadata": {},
      "cell_type": "markdown",
      "source": "# Introducción a Sympy\n\nAdemais das variables numéricas existen as variables simbólicas que permiten calcular\nlímites, derivadas, integrais etc., como se fai habitualmente nas clases de matemáticas.\nPara poder facer estas operacións, habituais nun curso de Cálculo, é preciso ter instalada a libraría **Sympy**.\n\nAo contrario que o módulo **Math** ou o módulo **Numpy** que acabamos de revisar na práctica anterior, o módulo **Sympy** non traballa cunha estrutura de datos baseado en números (xa sexan de tipo enteiro ou dobre) senón que traballa con obxectos que posúen atributos e métodos que tratan de reproducir o comportamento matemático de variables, funcións, rexións, ecuacións, etc. coas que se traballa habitualmente nas disciplinas da álxebra e o cálculo diferencial e integral.\n\nPara empregar directamente este guión de prácticas dende unha instalación de Python con *Anaconda*, basta con facer clic na aplicación 'Jupyter notebook' que xa está instalada por defecto (para máis detalles: https://jupyter-notebook-beginner-guide.readthedocs.io/en/latest/execute.html).\n\n### Obxectivos:\n\n- Uso de variables simbólicas\n- Suposicións e requerimentos das variables \n- Manipulación de expresións sinxelas en varias variables\n\n\n## Instalación e carga do módulo\nPara facer que estea dispoñible o módulo **Sympy**, hai que instalalo usando a ferramente `pip` (ou `conda` se estades a usar entornos de traballo diferenciados). No caso do uso de *Microsoft Azute Notebooks* (https://notebooks.azure.com/), empregaríase a seguinte instalación:"
    },
    {
      "metadata": {
        "trusted": true
      },
      "cell_type": "code",
      "source": "!pip -q install sympy",
      "execution_count": 1,
      "outputs": [
        {
          "output_type": "stream",
          "text": "\u001b[33mYou are using pip version 19.3.1, however version 20.0.2 is available.\r\nYou should consider upgrading via the 'pip install --upgrade pip' command.\u001b[0m\r\n",
          "name": "stdout"
        }
      ]
    },
    {
      "metadata": {},
      "cell_type": "markdown",
      "source": "Para dispoñer do módulo **Sympy** e importalo para o resto do guión de prácticas, usaremos:"
    },
    {
      "metadata": {
        "trusted": true
      },
      "cell_type": "code",
      "source": "import sympy as sp",
      "execution_count": 2,
      "outputs": []
    },
    {
      "metadata": {},
      "cell_type": "markdown",
      "source": "## Variables simbólicas\nPara traballar en modo simbólico é necesario definir variables simbólicas e para facer\nisto usaremos o función `sp.Symbol`. Vexamos algúns exemplos do seu uso:"
    },
    {
      "metadata": {
        "trusted": false
      },
      "cell_type": "code",
      "source": "x = sp.Symbol('x') # define a variable simbólica x\ny = sp.Symbol('y') # define a variable simbólica y\nf = 3*x + 5*y # agora temos definida a expresion simbólica f\nprint(f)\n\na, b, c = sp.symbols('a:c') # define como simbólicas as variables a, b, c.\nexpresion = a**3 + b**2 + c\nprint(expresion)",
      "execution_count": 3,
      "outputs": [
        {
          "name": "stdout",
          "output_type": "stream",
          "text": "3*x + 5*y\na**3 + b**2 + c\n"
        }
      ]
    },
    {
      "metadata": {},
      "cell_type": "markdown",
      "source": "Por claridade na implementación e nos cálculos, será habitual que o nome da variable simbólica e o nome do obxecto **Sympy** no que se alamacena coincidan, pero isto non ter porque ser así:"
    },
    {
      "metadata": {
        "trusted": false
      },
      "cell_type": "code",
      "source": "a = sp.Symbol('x')\nprint(a)\na.name",
      "execution_count": 4,
      "outputs": [
        {
          "name": "stdout",
          "output_type": "stream",
          "text": "x\n"
        },
        {
          "data": {
            "text/plain": "'x'"
          },
          "execution_count": 4,
          "metadata": {},
          "output_type": "execute_result"
        }
      ]
    },
    {
      "metadata": {},
      "cell_type": "markdown",
      "source": "Debemos ter claso que agora as variables `x` ou `y` definidas antes non son números, nin tampouco pertencen aos obxectos definidos co módulo **Numpy** revisado na práctica anterior. Todas as variables simbólicas son obxectos da clase `sp.Symbol` e os seus atributos e métodos son completamente diferentes aos que aparecían ás variables numéricas e vectores de **Numpy**:"
    },
    {
      "metadata": {
        "trusted": false
      },
      "cell_type": "code",
      "source": "print(type(x))\ndir(x)",
      "execution_count": 5,
      "outputs": [
        {
          "name": "stdout",
          "output_type": "stream",
          "text": "<class 'sympy.core.symbol.Symbol'>\n"
        },
        {
          "data": {
            "text/plain": "['_Symbol__xnew_cached_',\n '__abs__',\n '__add__',\n '__and__',\n '__call__',\n '__class__',\n '__complex__',\n '__delattr__',\n '__div__',\n '__doc__',\n '__eq__',\n '__float__',\n '__format__',\n '__ge__',\n '__getattribute__',\n '__getnewargs__',\n '__getstate__',\n '__gt__',\n '__hash__',\n '__init__',\n '__int__',\n '__invert__',\n '__le__',\n '__long__',\n '__lshift__',\n '__lt__',\n '__mod__',\n '__module__',\n '__mul__',\n '__ne__',\n '__neg__',\n '__new__',\n '__new_stage2__',\n '__or__',\n '__pos__',\n '__pow__',\n '__radd__',\n '__rand__',\n '__rdiv__',\n '__reduce__',\n '__reduce_ex__',\n '__repr__',\n '__rlshift__',\n '__rmod__',\n '__rmul__',\n '__ror__',\n '__rpow__',\n '__rrshift__',\n '__rshift__',\n '__rsub__',\n '__rtruediv__',\n '__rxor__',\n '__setattr__',\n '__setstate__',\n '__sizeof__',\n '__slots__',\n '__str__',\n '__sub__',\n '__subclasshook__',\n '__truediv__',\n '__xnew__',\n '__xor__',\n '_args',\n '_assumptions',\n '_compare_pretty',\n '_diff_wrt',\n '_eval_adjoint',\n '_eval_as_leading_term',\n '_eval_conjugate',\n '_eval_derivative',\n '_eval_evalf',\n '_eval_expand_complex',\n '_eval_interval',\n '_eval_is_algebraic_expr',\n '_eval_is_negative',\n '_eval_is_polynomial',\n '_eval_is_positive',\n '_eval_is_rational_function',\n '_eval_lseries',\n '_eval_nseries',\n '_eval_power',\n '_eval_rewrite',\n '_eval_simplify',\n '_eval_subs',\n '_eval_transpose',\n '_evalf',\n '_expand_hint',\n '_explicit_class_assumptions',\n '_from_mpmath',\n '_has',\n '_has_matcher',\n '_hashable_content',\n '_mhash',\n '_op_priority',\n '_parse_order',\n '_prop_handler',\n '_random',\n '_recursive_call',\n '_sage_',\n '_sanitize',\n '_sorted_args',\n '_subs',\n '_to_mpmath',\n 'adjoint',\n 'apart',\n 'args',\n 'args_cnc',\n 'as_base_exp',\n 'as_coeff_Add',\n 'as_coeff_Mul',\n 'as_coeff_add',\n 'as_coeff_exponent',\n 'as_coeff_mul',\n 'as_coefficient',\n 'as_coefficients_dict',\n 'as_content_primitive',\n 'as_dummy',\n 'as_expr',\n 'as_independent',\n 'as_leading_term',\n 'as_numer_denom',\n 'as_ordered_factors',\n 'as_ordered_terms',\n 'as_poly',\n 'as_powers_dict',\n 'as_real_imag',\n 'as_terms',\n 'assumptions0',\n 'atoms',\n 'cancel',\n 'canonical_variables',\n 'class_key',\n 'coeff',\n 'collect',\n 'combsimp',\n 'compare',\n 'compute_leading_term',\n 'conjugate',\n 'copy',\n 'could_extract_minus_sign',\n 'count',\n 'count_ops',\n 'default_assumptions',\n 'diff',\n 'doit',\n 'dummy_eq',\n 'equals',\n 'evalf',\n 'expand',\n 'extract_additively',\n 'extract_branch_factor',\n 'extract_multiplicatively',\n 'factor',\n 'find',\n 'free_symbols',\n 'fromiter',\n 'func',\n 'getO',\n 'getn',\n 'has',\n 'integrate',\n 'invert',\n 'is_Add',\n 'is_AlgebraicNumber',\n 'is_Atom',\n 'is_Boolean',\n 'is_Derivative',\n 'is_Dummy',\n 'is_Equality',\n 'is_Float',\n 'is_Function',\n 'is_Integer',\n 'is_Matrix',\n 'is_Mul',\n 'is_Not',\n 'is_Number',\n 'is_NumberSymbol',\n 'is_Order',\n 'is_Piecewise',\n 'is_Poly',\n 'is_Pow',\n 'is_Rational',\n 'is_Relational',\n 'is_Symbol',\n 'is_Vector',\n 'is_Wild',\n 'is_algebraic',\n 'is_algebraic_expr',\n 'is_antihermitian',\n 'is_bounded',\n 'is_commutative',\n 'is_comparable',\n 'is_complex',\n 'is_composite',\n 'is_constant',\n 'is_even',\n 'is_finite',\n 'is_hermitian',\n 'is_hypergeometric',\n 'is_imaginary',\n 'is_infinite',\n 'is_infinitesimal',\n 'is_integer',\n 'is_irrational',\n 'is_negative',\n 'is_noninteger',\n 'is_nonnegative',\n 'is_nonpositive',\n 'is_nonzero',\n 'is_number',\n 'is_odd',\n 'is_polar',\n 'is_polynomial',\n 'is_positive',\n 'is_prime',\n 'is_rational',\n 'is_rational_function',\n 'is_real',\n 'is_transcendental',\n 'is_unbounded',\n 'is_zero',\n 'iter_basic_args',\n 'leadterm',\n 'limit',\n 'lseries',\n 'match',\n 'matches',\n 'n',\n 'name',\n 'normal',\n 'nseries',\n 'nsimplify',\n 'powsimp',\n 'primitive',\n 'radsimp',\n 'ratsimp',\n 'rcall',\n 'refine',\n 'removeO',\n 'replace',\n 'rewrite',\n 'round',\n 'separate',\n 'series',\n 'simplify',\n 'sort_key',\n 'subs',\n 'taylor_term',\n 'together',\n 'transpose',\n 'trigsimp',\n 'xreplace']"
          },
          "execution_count": 5,
          "metadata": {},
          "output_type": "execute_result"
        }
      ]
    },
    {
      "metadata": {},
      "cell_type": "markdown",
      "source": "Con **Sympy** pódense definir constantes enteiras ou números racioanais (todas de forma simbólica) de xeito doado usando o comando `sp.Integer` ou `sp.Rational`. Por exemplo, podemos definir a constante simbólica $1/3$. Se fixeramos o mesmo con números representados por defecto en Python, obteríamos resultados moi diferentes. Observa tamén a diferenza que existe entre o tipo\nde dato asignado no espazo de traballo"
    },
    {
      "metadata": {
        "trusted": true
      },
      "cell_type": "code",
      "source": "a = sp.Rational('1/3')\nb = sp.Integer('6')/sp.Integer('3')\nc = 1/3\nd = 1.0/3.0\nprint(a)\nprint(b)\nprint(c)\nprint(d)\nprint(type(a))\nprint(type(b))\nprint(type(c))\nprint(type(d))\nprint(a)\nprint(b)",
      "execution_count": 5,
      "outputs": [
        {
          "output_type": "stream",
          "text": "1/3\n2\n0\n0.333333333333\n<class 'sympy.core.numbers.Rational'>\n<class 'sympy.core.numbers.Integer'>\n<type 'int'>\n<type 'float'>\n1/3\n2\n",
          "name": "stdout"
        }
      ]
    },
    {
      "metadata": {},
      "cell_type": "markdown",
      "source": "Outra forma sinxela de manexar valores constante mediante obxectos do módulo **Sympy** é usar a función `sp.S`. Unha vez feitos todos os cálculos simbólicos, se precisamos obter o valor numérico, empregaríase a función `sp.N` ou ben directamente `float`:"
    },
    {
      "metadata": {
        "trusted": false
      },
      "cell_type": "code",
      "source": "a = sp.S(2)\nb = sp.S(6)\nc = a/b\nd = sp.N(c)\ne = float(c)\nprint(type(a))\nprint(type(b))\nprint(type(c))\nprint(type(d))\nprint(type(e))\nprint(c)\nprint(d)\nprint('{0:.15f}'.format(e))",
      "execution_count": 7,
      "outputs": [
        {
          "name": "stdout",
          "output_type": "stream",
          "text": "<class 'sympy.core.numbers.Integer'>\n<class 'sympy.core.numbers.Integer'>\n<class 'sympy.core.numbers.Rational'>\n<class 'sympy.core.numbers.Float'>\n<type 'float'>\n1/3\n0.333333333333333\n0.333333333333333\n"
        }
      ]
    },
    {
      "metadata": {},
      "cell_type": "markdown",
      "source": "Ao longo do curso usaremos asiduamente dous números reais que podes definir como constantes simbólicas: $\\pi$ e o numéro $e$. Do mesmo xeito, para operar con variables ou constantes simbólicas, debemos empregar funcións que sexan capaces de manipular este tipo de obxectos, todas elas implementadas no módulo **Sympy** (por exemplo, `sp.sin`, `sp.cos`, `sp.log`, etc)"
    },
    {
      "metadata": {
        "trusted": true
      },
      "cell_type": "code",
      "source": "import numpy as np\nprint(np.pi)\nprint(type(np.pi))\n\np=sp.pi # definición da constante pi\nprint(sp.cos(p))\n\ne = sp.E # definición do número e\nprint(sp.log(e))\n\nprint(sp.N(sp.pi,1000))\nprint(type(sp.N(sp.pi,100)))",
      "execution_count": 12,
      "outputs": [
        {
          "output_type": "stream",
          "text": "3.14159265359\n<type 'float'>\n-1\n1\n3.141592653589793238462643383279502884197169399375105820974944592307816406286208998628034825342117067982148086513282306647093844609550582231725359408128481117450284102701938521105559644622948954930381964428810975665933446128475648233786783165271201909145648566923460348610454326648213393607260249141273724587006606315588174881520920962829254091715364367892590360011330530548820466521384146951941511609433057270365759591953092186117381932611793105118548074462379962749567351885752724891227938183011949129833673362440656643086021394946395224737190702179860943702770539217176293176752384674818467669405132000568127145263560827785771342757789609173637178721468440901224953430146549585371050792279689258923542019956112129021960864034418159813629774771309960518707211349999998372978049951059731732816096318595024459455346908302642522308253344685035261931188171010003137838752886587533208381420617177669147303598253490428755468731159562863882353787593751957781857780532171226806613001927876611195909216420198\n<class 'sympy.core.numbers.Float'>\n",
          "name": "stdout"
        }
      ]
    },
    {
      "metadata": {},
      "cell_type": "markdown",
      "source": "## Suposicións sobre as variables\n\nCando se define unha variable simbólica se lle pode asignar certa información adicional sobre o tipo de valores que pode acadar, ou as suposicións que se lle van a aplicar. Por exemplo, podemos decidir antes de facer calquera cálculo se a variable toma valores enteiros ou reais, se é positiva ou negativa, maior que un certo número, etc. Este tipo de información engádese no momento da definición da variable simbólica como un argumento opcional."
    },
    {
      "metadata": {
        "trusted": false
      },
      "cell_type": "code",
      "source": "x = sp.Symbol('x', nonnegative = True) # A raíz cadrada dun número non negativo é real\ny = sp.sqrt(x)\nprint(y.is_real)\n\nx = sp.Symbol('x', integer = True) # A potencia dun número enteiro é enteira\ny = x**sp.S(2)\nprint(y.is_integer)\n\na = sp.Symbol('a')\nb = sp.sqrt(a)\nprint(b.is_real)\n\na = sp.Symbol('a')\nb = a**sp.S(2)\nprint(b.is_integer)",
      "execution_count": 9,
      "outputs": [
        {
          "name": "stdout",
          "output_type": "stream",
          "text": "True\nTrue\nNone\nNone\n"
        }
      ]
    },
    {
      "metadata": {},
      "cell_type": "markdown",
      "source": "Posto que os cálculos simbólicos son consistentes en **Sympy**, se poden tamén facer comprobacións sobre se algunhas desigualdades son certas ou non, sempre e cando se teña coidado nas suposicións que se fagan ao definir as variables simbólicas"
    },
    {
      "metadata": {
        "trusted": false
      },
      "cell_type": "code",
      "source": "x = sp.Symbol('x', real = True)\np = sp.Symbol('p', positive = True)\nq = sp.Symbol('q', real = True)\ny = sp.Abs(x) + p # O valor absoluto\nz = sp.Abs(x) + q\nprint(y > 0)\nprint(z > 0)",
      "execution_count": 10,
      "outputs": [
        {
          "name": "stdout",
          "output_type": "stream",
          "text": "True\nq + Abs(x) > 0\n"
        }
      ]
    },
    {
      "metadata": {},
      "cell_type": "markdown",
      "source": "## Manipulación de expresións simbólicas"
    },
    {
      "metadata": {},
      "cell_type": "markdown",
      "source": "Do mesmo xeito que o módulo **Sympy** nos permite definir variables simbólicas, tamén podemos definir expresións matemáticas a partir destas e manipulalas, factorizándoas, expandíndoas, simplificalas, ou mesmo imprimilas dun xeito similar a como o faríamos con lápiz e papel"
    },
    {
      "metadata": {
        "trusted": false
      },
      "cell_type": "code",
      "source": "x,y = sp.symbols('x,y', real=True)\nexpr = (x-3)*(x-3)**2*(y-2)\nexpr_long = sp.expand(expr) # Expandir expresión\n\nprint(expr_long) # Imprimir de forma estándar\nsp.pprint(expr_long) # Imprimir de forma semellante a con lápiz e papel\n\nexpr_short = sp.factor(expr)\nprint(expr_short) # Factorizar expresión\n\nexpr = -3+(x**2-6*x+9)/(x-3)\nexpr_simple = sp.simplify(expr) # Simplificar expresión\nsp.pprint(expr)\nprint(expr_simple)",
      "execution_count": 11,
      "outputs": [
        {
          "name": "stdout",
          "output_type": "stream",
          "text": "x**3*y - 2*x**3 - 9*x**2*y + 18*x**2 + 27*x*y - 54*x - 27*y + 54\n 3        3      2         2                            \nx ⋅y - 2⋅x  - 9⋅x ⋅y + 18⋅x  + 27⋅x⋅y - 54⋅x - 27⋅y + 54\n(x - 3)**3*(y - 2)\n      2          \n     x  - 6⋅x + 9\n-3 + ────────────\n        x - 3    \nx - 6\n"
        }
      ]
    },
    {
      "metadata": {},
      "cell_type": "markdown",
      "source": "Dada unha expresión en **Sympy** tamén se pode manipulala, substituindo unhas variables simbólica por outras ou mesmo reemprazando as variables simbólicas por constantes. Para facer este tipo de substitucións emprégase a función `subs` e os valores a utilizar na substitución veñen definidos por un diccionario de Python:"
    },
    {
      "metadata": {
        "trusted": false
      },
      "cell_type": "code",
      "source": "x,y = sp.symbols('x,y', real=True)\nexpr = x*x + x*y + y*x + y*y\nres = expr.subs({x:1, y:2}) # Substitutición das variables simbólicas por constantes\nprint(res)\n\nexpr_sub = expr.subs({x:1-y}) # Subsitución de variable simbólica por unha expresión\nsp.pprint(expr_sub)\nprint(sp.simplify(expr_sub))",
      "execution_count": 12,
      "outputs": [
        {
          "name": "stdout",
          "output_type": "stream",
          "text": "9\n 2                          2\ny  + 2⋅y⋅(-y + 1) + (-y + 1) \n1\n"
        }
      ]
    },
    {
      "metadata": {},
      "cell_type": "markdown",
      "source": "### **Exercicio 2.1** \nDefine a expresión dada pola suma dos termos seguintes:\n$$\na+a^2+a^3+\\ldots+a^N,\n$$\nonde $a$ é unha variable real arbitraria e $N$ e un valor enteiro positivo."
    },
    {
      "metadata": {
        "trusted": false
      },
      "cell_type": "code",
      "source": "# O TEU CÓDIGO AQUÍ",
      "execution_count": 13,
      "outputs": []
    },
    {
      "metadata": {},
      "cell_type": "markdown",
      "source": "### **Exercicio 2.2** \nCal é o valor exacto da anterior expresión cando $N=15$ e $a=5/6$? Cal é valor numérico en coma flotante?"
    },
    {
      "metadata": {
        "trusted": false
      },
      "cell_type": "code",
      "source": "# O TEU CÓDIGO AQUÍ",
      "execution_count": 14,
      "outputs": []
    }
  ],
  "metadata": {
    "kernelspec": {
      "name": "python2",
      "display_name": "Python 2",
      "language": "python"
    },
    "language_info": {
      "mimetype": "text/x-python",
      "nbconvert_exporter": "python",
      "name": "python",
      "pygments_lexer": "ipython2",
      "version": "2.7.15",
      "file_extension": ".py",
      "codemirror_mode": {
        "version": 2,
        "name": "ipython"
      }
    }
  },
  "nbformat": 4,
  "nbformat_minor": 2
}