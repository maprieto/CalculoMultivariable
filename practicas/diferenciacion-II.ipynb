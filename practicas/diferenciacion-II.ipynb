{
 "cells": [
  {
   "cell_type": "markdown",
   "metadata": {},
   "source": [
    "# Cálculo diferencial en varias variables (II)\n",
    "\n",
    "Unha das funcionalindades máis importantes do módulo **Sympy** é as ferramentas das que dispón para o cálculo de derivadas, xa se traten de derivadas ordinarias (para expresións que dependen dunha única variable) como de derivadas parciais (para expresións definidas a partir de varias variables). Nesta práctica, estudaremos como calcular derivadas de forma implícita, usar a regra da cadea tanto usando a matriz xacobiana ou directamente co comando `sp.diff` e a representación de planos tanxentes a un punto dunha superficie\n",
    "\n",
    "### Obxectivos:\n",
    "\n",
    "- Cálculo de derivadas parciais de forma implícita\n",
    "- Uso da regra da cadea mediante o cálculo da matriz xacobiana\n",
    "- Cálculo e representación gráfica do plano tanxente nun punto dunha superficie"
   ]
  },
  {
   "cell_type": "markdown",
   "metadata": {},
   "source": [
    "Para dispoñer do módulo **Sympy** e importalo para o resto do guión de prácticas, usaremos:"
   ]
  },
  {
   "cell_type": "code",
   "execution_count": 1,
   "metadata": {},
   "outputs": [],
   "source": [
    "import sympy as sp"
   ]
  },
  {
   "cell_type": "markdown",
   "metadata": {},
   "source": [
    "## Resolución de ecuacións en **Sympy**\n",
    "Ata o de agora, aínda non precisamos calcular a solución de ecuacións (tanto lineais, polinómicas ou non lineais). Para facelo o módulo **Sympy** posúe a ferramenta `sp.solve`. Vexamos o uso desta función para resolver a ecuación $x^2+3x+a=0$ onde $x$ é a variable a calcular e $a$ é un parámetro constante asumido como coñecido:"
   ]
  },
  {
   "cell_type": "code",
   "execution_count": 2,
   "metadata": {},
   "outputs": [
    {
     "data": {
      "text/plain": [
       "[-sqrt(9 - 4*a)/2 - 3/2, sqrt(9 - 4*a)/2 - 3/2]"
      ]
     },
     "metadata": {},
     "output_type": "display_data"
    }
   ],
   "source": [
    "x, a = sp.symbols('x a', real=True) # define as variables simbólicas x e y\n",
    "sol = sp.solve(sp.Eq(x**2+3*x+a,0),x)\n",
    "display(sol)"
   ]
  },
  {
   "cell_type": "markdown",
   "metadata": {},
   "source": [
    "A mesma función `sp.solve` tamén nos permite resolver sistemas de ecuacións (tanto lineais como non lineais). Por exemplo, se queremos resolver o sistema\n",
    "$$\n",
    "\\left\\{\n",
    "\\begin{array}\n",
    " 33x^2+2y=1,\\\\\n",
    " x-y =2,\n",
    "\\end{array}\n",
    "\\right.\n",
    "$$\n",
    "empregaríase:"
   ]
  },
  {
   "cell_type": "code",
   "execution_count": 3,
   "metadata": {},
   "outputs": [
    {
     "data": {
      "text/plain": [
       "[(-5/3, -11/3), (1, -1)]"
      ]
     },
     "metadata": {},
     "output_type": "display_data"
    }
   ],
   "source": [
    "x, y = sp.symbols('x y', real=True) # define as variables simbólicas x e y\n",
    "sol = sp.solve((sp.Eq(3*x**2+2*y,1),sp.Eq(x-y,2)),(x,y))\n",
    "display(sol)"
   ]
  },
  {
   "cell_type": "markdown",
   "metadata": {},
   "source": [
    "## Derivación implícita\n",
    "Se queremos calcular as derivadas dunha función que depende dunha ou varias variables non temos porque coñecer a súa expresión de forma explícita, pode vir dada implicitamente. Por exemplo, a función $z=f(x,y)$ pode vir determinada pola expresión $z^2x+2yz+xy=3$. Neste caso, non se coñece de forma explícita cal é a expresión de $f$ en termos de $x$ e $y$. A pesar deste incoveniente é posible calcular  as derivadas parciais $\\partial f/\\partial x$ e $\\partial f/\\partial y$ como segue:"
   ]
  },
  {
   "cell_type": "code",
   "execution_count": 4,
   "metadata": {},
   "outputs": [
    {
     "data": {
      "text/plain": [
       "[-(y + f(x, y)**2)/(2*x*f(x, y) + 2*y)]"
      ]
     },
     "metadata": {},
     "output_type": "display_data"
    },
    {
     "data": {
      "text/plain": [
       "[-(x/2 + f(x, y))/(x*f(x, y) + y)]"
      ]
     },
     "metadata": {},
     "output_type": "display_data"
    }
   ],
   "source": [
    "x, y = sp.symbols('x y', real=True) # define as variables simbólicas x e y\n",
    "z = sp.Function('f')(x,y)\n",
    "eq = sp.Eq(z**2*x+2*y*z+x*y,3)\n",
    "# Calculo da dereivada implicita con respecto a x\n",
    "eq_dx = sp.Eq(sp.diff(eq.lhs, x),sp.diff(eq.rhs, x))\n",
    "z_dx = sp.solve(eq_dx, sp.diff(z,x))\n",
    "display(z_dx)\n",
    "# Calculo da dereivada implicita con respecto a y\n",
    "eq_dy = sp.Eq(sp.diff(eq.lhs, y),sp.diff(eq.rhs, y))\n",
    "z_dy = sp.solve(eq_dy, sp.diff(z,y))\n",
    "display(z_dy)"
   ]
  },
  {
   "cell_type": "markdown",
   "metadata": {},
   "source": [
    "### **Exercicio 7.1** \n",
    "Calcula as derivadas parciais da función $u=f(x,y,z)$ tendo en conta que $x^2+y^2+z^2+u^2=1$."
   ]
  },
  {
   "cell_type": "code",
   "execution_count": 5,
   "metadata": {},
   "outputs": [],
   "source": [
    "# O TEU CÓDIGO AQUÍ"
   ]
  },
  {
   "cell_type": "markdown",
   "metadata": {},
   "source": [
    "## Matriz xacobiana e regra da cadea\n",
    "A regra de derivación ordinaria para a composición de funcións viña dada pola chamda regra da cadea $(f\\circ g)'(x)=f'(g(x))g'(x)$. No caso, de funcións de varias variables, formalmente tamén acudiremos á regra da cadea para cálculo multivariable. Por exemplo, se $F:\\mathbb{R}^N\\to \\mathbb{R}$ e $G:\\mathbb{R}^{M}\\to\\mathbb{R}^{N}$ entón, o cálculo do gradiente da composición $F\\circ G$ resulta:\n",
    "$$\n",
    "\\nabla(F\\circ G)(x_{1},\\ldots,x_{M})=(DG(x_{1},\\ldots,x_{M}))^{t}(\\nabla F)(G(x_{1},\\ldots,x_{M}))\n",
    "$$\n",
    "onde $DG$ é a matriz xacobiana da función $G$. Vexamos como facer este cálculo nun caso particular onde \n",
    "$$\n",
    "F(x,y)=3x+2y^2\\qquad e \\qquad \n",
    "G(s,t,r)=\n",
    "\\begin{pmatrix}\n",
    "2s+t^2\\\\\n",
    "r^2s\n",
    "\\end{pmatrix}.\n",
    "$$\n",
    "Para implementar este tipo de cálculos matriciais con **Sympy** será útil empregar a clase de obxectos `sp.Matrix` e tamén o uso do método `jacobian` para calcular a matriz xacobiana dunha expresión (ademais tamén teremos en conta que o gradiente dunha función escalar de varias variables é a matriz transposta da matriz xacobiana):"
   ]
  },
  {
   "cell_type": "code",
   "execution_count": 6,
   "metadata": {},
   "outputs": [
    {
     "data": {
      "text/latex": [
       "$\\displaystyle \\left[\\begin{matrix}3\\\\4 y\\end{matrix}\\right]$"
      ],
      "text/plain": [
       "Matrix([\n",
       "[  3],\n",
       "[4*y]])"
      ]
     },
     "metadata": {},
     "output_type": "display_data"
    },
    {
     "data": {
      "text/latex": [
       "$\\displaystyle \\left[\\begin{matrix}2 & 2 t & 0\\\\r^{2} & 0 & 2 r s\\end{matrix}\\right]$"
      ],
      "text/plain": [
       "Matrix([\n",
       "[   2, 2*t,     0],\n",
       "[r**2,   0, 2*r*s]])"
      ]
     },
     "metadata": {},
     "output_type": "display_data"
    },
    {
     "data": {
      "text/latex": [
       "$\\displaystyle \\left[\\begin{matrix}4 r^{4} s + 6\\\\6 t\\\\8 r^{3} s^{2}\\end{matrix}\\right]$"
      ],
      "text/plain": [
       "Matrix([\n",
       "[4*r**4*s + 6],\n",
       "[         6*t],\n",
       "[ 8*r**3*s**2]])"
      ]
     },
     "metadata": {},
     "output_type": "display_data"
    }
   ],
   "source": [
    "x, y, r, s, t = sp.symbols('x y r s t', real=True) # define as variables simbólicas x e y\n",
    "# Definición das expresións de F e G\n",
    "F = sp.Matrix([3*x+2*y**2])\n",
    "G = sp.Matrix([2*s+t**2, r**2*s])\n",
    "# Cálculo do gradiente de F\n",
    "gradient_F = F.jacobian([x,y]).transpose()\n",
    "display(gradient_F)\n",
    "# Cálculo da matriz xacobiana de G\n",
    "DG = G.jacobian([s,t,r])\n",
    "display(DG)\n",
    "# Cálculo do gradiente de F(G)\n",
    "DFoG = DG.transpose()*(gradient_F.subs({x:G[0], y:G[1]}))\n",
    "display(DFoG)"
   ]
  },
  {
   "cell_type": "markdown",
   "metadata": {},
   "source": [
    "Para comprobar que os cálculo feitos anteriormente son correctos, tamén é posible calcular primeiro a composición de funcións e despois calcular as derivadas parciais usado a función `jacobian`. Tanto dunha forma como doutra o resultado debe ser idéntico. Nesta forma de proceder, usaremos a implementación do gradiente revisada na práctica anterior:"
   ]
  },
  {
   "cell_type": "code",
   "execution_count": 7,
   "metadata": {},
   "outputs": [],
   "source": [
    "def gradient(expr, varlist):\n",
    "    return [sp.diff(expr,var) for var in varlist] # cálculo do gradiente almacenado nunha lista"
   ]
  },
  {
   "cell_type": "markdown",
   "metadata": {},
   "source": [
    "E agora definimos dúas funcións con `sp.Lambda` e calculamos a composición para despois calcular o gradiente.\n",
    "> ** Nota **: a composición de funcións debe facerse con coidado xa que a función `G` devolve unha lista e para extraer cada un dos elementos da lista e pasalos como argumento da función `F` débese empregar o operador `*`"
   ]
  },
  {
   "cell_type": "code",
   "execution_count": 8,
   "metadata": {},
   "outputs": [
    {
     "data": {
      "text/plain": [
       "'Avaliacion de G como unha lista de expresions:'"
      ]
     },
     "metadata": {},
     "output_type": "display_data"
    },
    {
     "data": {
      "text/latex": [
       "$\\displaystyle \\left( 2 s + t^{2}, \\  r^{2} s\\right)$"
      ],
      "text/plain": [
       "(2*s + t**2, r**2*s)"
      ]
     },
     "metadata": {},
     "output_type": "display_data"
    },
    {
     "data": {
      "text/plain": [
       "'Avaliacion de G duas expresions independentes:'"
      ]
     },
     "metadata": {},
     "output_type": "display_data"
    },
    {
     "data": {
      "text/latex": [
       "$\\displaystyle 2 s + t^{2}$"
      ],
      "text/plain": [
       "2*s + t**2"
      ]
     },
     "metadata": {},
     "output_type": "display_data"
    },
    {
     "data": {
      "text/latex": [
       "$\\displaystyle r^{2} s$"
      ],
      "text/plain": [
       "r**2*s"
      ]
     },
     "metadata": {},
     "output_type": "display_data"
    },
    {
     "data": {
      "text/plain": [
       "'Composicion:'"
      ]
     },
     "metadata": {},
     "output_type": "display_data"
    },
    {
     "data": {
      "text/latex": [
       "$\\displaystyle 2 r^{4} s^{2} + 6 s + 3 t^{2}$"
      ],
      "text/plain": [
       "2*r**4*s**2 + 6*s + 3*t**2"
      ]
     },
     "metadata": {},
     "output_type": "display_data"
    },
    {
     "data": {
      "text/plain": [
       "'Gradiente:'"
      ]
     },
     "metadata": {},
     "output_type": "display_data"
    },
    {
     "data": {
      "text/plain": [
       "[4*r**4*s + 6, 6*t, 8*r**3*s**2]"
      ]
     },
     "metadata": {},
     "output_type": "display_data"
    }
   ],
   "source": [
    "# Definición das funcións\n",
    "F = sp.Lambda((x,y),3*x+2*y**2)\n",
    "G = sp.Lambda((s,t,r),(2*s+t**2,r**2*s))\n",
    "display('Avaliacion de G como unha lista de expresions:', G(s,t,r))\n",
    "display('Avaliacion de G duas expresions independentes:', *G(s,t,r))\n",
    "# Cálculo da composición\n",
    "FoG = F(*G(s,t,r))\n",
    "display('Composicion:', FoG)\n",
    "# Cálculo do gradiente da composición\n",
    "DFoG = gradient(FoG, (s,t,r))\n",
    "display('Gradiente:',DFoG)"
   ]
  },
  {
   "cell_type": "markdown",
   "metadata": {},
   "source": [
    "### **Exercicio 7.2** \n",
    "Emprega a regra da cadea e a composicion de funcións para calcular o gradiente con respecto ás variables $(t,s)$ da función $w=xyz$ con $x=s+t$, $y=s-t$, e $z=st^2$."
   ]
  },
  {
   "cell_type": "code",
   "execution_count": 9,
   "metadata": {},
   "outputs": [],
   "source": [
    "# O TEU CÓDIGO AQUÍ"
   ]
  },
  {
   "cell_type": "markdown",
   "metadata": {},
   "source": [
    "## Recta tanxente e normal a unha curva\n",
    "A interpretación xeométrica da derivada ordinaria $f'(x)$ dunha función dunha variable $f(x)$ é clara: $f(x_{0})$ é a pendente da recta tanxente á curva $y=f(x)$ no punto $(x_0,y_0)=(x_0,f(x_{0}))$. Do mesmo xeito, empregando as propiedades do gradiente, se definimos $F(x,y)=y-f(x)$, entón $\\nabla F(x_0,y_0)$ é un vector perpendicular á gráfica $y=f(x)$ e polo tanto define o vector director da curva normal á gráfica nese punto. \n",
    "\n",
    "Para a representación gráfica tanto de rectas como de planos, empregaremos **Matplotlib**"
   ]
  },
  {
   "cell_type": "code",
   "execution_count": 10,
   "metadata": {},
   "outputs": [],
   "source": [
    "import numpy as np\n",
    "import matplotlib\n",
    "import matplotlib.pyplot as plt\n",
    "%matplotlib inline"
   ]
  },
  {
   "cell_type": "markdown",
   "metadata": {},
   "source": [
    "Vexamos estas propiedades co exemplo $f(x)=x^2+3$ considerendo o punto $x_0=1$:"
   ]
  },
  {
   "cell_type": "code",
   "execution_count": 11,
   "metadata": {},
   "outputs": [],
   "source": [
    "x, y = sp.symbols('x y', real=True) # define a variable simbólica x\n",
    "f = sp.Lambda(x, x**2+3)\n",
    "x0 = 1; y0=f(x0)\n",
    "# Cálculo da ecuación da recta tanxente\n",
    "df = sp.Lambda(x, sp.diff(f(x),x))\n",
    "recta_tang = y0+df(x0)*(x-x0)\n",
    "# Cálculo da ecuación da recta normal\n",
    "grad_f = gradient(y-f(x),(x,y))\n",
    "grad_fun = sp.Lambda((x,y),(grad_f[0],grad_f[1]))\n",
    "u = grad_fun(x0,y0) # vector director da recta normal\n",
    "recta_norm = sp.solve(sp.Eq(u[0]*(y-y0)-u[1]*(x-x0),0),y)[0]"
   ]
  },
  {
   "cell_type": "markdown",
   "metadata": {},
   "source": [
    "Unha vez calculadas as rectas tanxentes e normais, trasladase a información do módulo **Sympy** a **Numpy**, para un uso posterior en **Matplotlib**:"
   ]
  },
  {
   "cell_type": "code",
   "execution_count": 12,
   "metadata": {},
   "outputs": [],
   "source": [
    "F = sp.lambdify(x,f(x),\"numpy\") # función numpy coa expresión de f(x,y)\n",
    "Recta_tang = sp.lambdify(x,recta_tang,\"numpy\") # función numpy coa expresión vectorial de grad(f)\n",
    "Recta_norm = sp.lambdify(x,recta_norm,\"numpy\") # función numpy coa expresión vectorial de grad(f)"
   ]
  },
  {
   "cell_type": "markdown",
   "metadata": {},
   "source": [
    "Agora pódense usar as funcións de **Numpy** para a representación gráfica da función e das rectas tanxentes e normal:"
   ]
  },
  {
   "cell_type": "code",
   "execution_count": 13,
   "metadata": {},
   "outputs": [
    {
     "data": {
      "image/png": "[encoded data removed]",
      "text/plain": [
       "<Figure size 432x288 with 1 Axes>"
      ]
     },
     "metadata": {
      "needs_background": "light"
     },
     "output_type": "display_data"
    }
   ],
   "source": [
    "# Creación dos puntos onde se avalían as funcións\n",
    "xvec = np.linspace(-2, 2, 100)\n",
    "\n",
    "# Gráfica de sin(x) e cos(x), cunha etiqueta para cada unha\n",
    "plt.plot(xvec, F(xvec), label='f(x)')\n",
    "plt.plot(xvec, Recta_tang(xvec), label='tanxente')\n",
    "plt.plot(xvec, Recta_norm(xvec), label='normal')\n",
    "\n",
    "# Etiquetas dos eixes\n",
    "plt.xlabel('x')\n",
    "plt.ylabel('y')\n",
    "\n",
    "# Engadir a lenda (mostrando as etiquetas dos \"plot\")\n",
    "plt.legend()\n",
    "\n",
    "# Definir os límites dos eixes x e y\n",
    "plt.xlim(xvec[0], xvec[-1])\n",
    "plt.ylim(2,6)\n",
    "ax = plt.gca()\n",
    "ax.set_aspect('equal')\n",
    "plt.show()"
   ]
  },
  {
   "cell_type": "markdown",
   "metadata": {},
   "source": [
    "### **Exercicio 7.3** \n",
    "Calcula e representa graficamente as rectas tanxente e normal da gráfica da función $x-2y^2=1$ no punto $x_0=2$."
   ]
  },
  {
   "cell_type": "code",
   "execution_count": 14,
   "metadata": {},
   "outputs": [],
   "source": [
    "# O TEU CÓDIGO AQUÍ"
   ]
  },
  {
   "cell_type": "markdown",
   "metadata": {},
   "source": [
    "## Plano tanxente e recta normal a unha superficie\n",
    "Como xa estudamos nas clases de pizarra, o gradiente dunha función $\\nabla f$ é un campo de vectores que sempre é perpendicular ás curvas de nivel dunha función de dúas variables $f(x,y)$. Isto tamén é certo para funcións de tres variables $f(x,y,z)$, onde agora o gradiente $\\nabla f(x,y,z)$ será perpendicular ás superficies de nivel. Isto nos permite calcular e representar graficamente tanto rectas normais como planos tanxentes a unha superficie dada."
   ]
  },
  {
   "cell_type": "markdown",
   "metadata": {},
   "source": [
    "Vexamos estas propiedades co exemplo da superficie $z=x^2+y^2+3$ considerendo o punto $(x_0,y_0)=(1,1/2)$:"
   ]
  },
  {
   "cell_type": "code",
   "execution_count": 15,
   "metadata": {},
   "outputs": [],
   "source": [
    "x, y, z, t = sp.symbols('x y z t', real=True) # define a variable simbólica x\n",
    "f = sp.Lambda((x,y), x**2+y**2+3)\n",
    "x0 = 1; y0=sp.Rational('1/2'); z0=f(x0,y0)\n",
    "# Cálculo da ecuación do plano tanxente\n",
    "grad_f = gradient(z-f(x,y),(x,y,z))\n",
    "grad_fun = sp.Lambda((x,y,z),(grad_f[0],grad_f[1],grad_f[2]))\n",
    "u = grad_fun(x0,y0,z0) # vector perpendicular a plano\n",
    "plano_tanx = sp.solve(sp.Eq(u[0]*(x-x0)+u[1]*(y-y0)+u[2]*(z-z0),0),z)[0]\n",
    "# Cálculo da ecuación vectorial da recta normal\n",
    "recta_norm = sp.Lambda(t,(x0+t*u[0], y0+t*u[1], z0+t*u[2]))"
   ]
  },
  {
   "cell_type": "markdown",
   "metadata": {},
   "source": [
    "Unha vez calculadas as rectas tanxentes e normais, trasladase a información do módulo **Sympy** a **Numpy**, para un uso posterior en **Matplotlib**:"
   ]
  },
  {
   "cell_type": "code",
   "execution_count": 16,
   "metadata": {},
   "outputs": [],
   "source": [
    "F = sp.lambdify((x,y),f(x,y),\"numpy\") # función numpy coa expresión de f(x,y)\n",
    "Plano_tanx = sp.lambdify((x,y),plano_tanx,\"numpy\") # función numpy coa expresión vectorial de grad(f)\n",
    "Recta_norm = sp.lambdify(t,recta_norm(t),\"numpy\") # función numpy coa expresión vectorial de grad(f)"
   ]
  },
  {
   "cell_type": "markdown",
   "metadata": {},
   "source": [
    "Agora pódense usar as funcións de **Numpy** para a representación gráfica da función e das rectas tanxentes e normal:"
   ]
  },
  {
   "cell_type": "code",
   "execution_count": 17,
   "metadata": {},
   "outputs": [
    {
     "data": {
      "image/png": "[encoded data removed]",
      "text/plain": [
       "<Figure size 432x288 with 1 Axes>"
      ]
     },
     "metadata": {
      "needs_background": "light"
     },
     "output_type": "display_data"
    }
   ],
   "source": [
    "from mpl_toolkits.mplot3d import axes3d\n",
    "# Nube de puntos para representar a superficie e o plano\n",
    "N = 50\n",
    "x = np.linspace(-2, 2, N)\n",
    "y = np.linspace(-2, 2, N)\n",
    "X, Y = np.meshgrid(x, y)\n",
    "Fval = F(X,Y)\n",
    "Pval = Plano_tanx(X,Y)\n",
    "\n",
    "# Conxunto de puntos para representar a recta normal\n",
    "tvec = np.linspace(-2, 2, 100)\n",
    "Rval = Recta_norm(tvec)\n",
    "\n",
    "# Creación da figura 3D\n",
    "fig = plt.figure()\n",
    "ax = plt.axes(projection=\"3d\")\n",
    "# Representación da superficie z=F(x,y)\n",
    "surf_F = ax.plot_surface(X, Y, Fval) \n",
    "surf_Plano = ax.plot_surface(X, Y, Pval)\n",
    "recta = ax.plot3D(*Rval)\n",
    "# Etiquetas dos eixes\n",
    "ax.set_xlabel('x')\n",
    "ax.set_ylabel('y')\n",
    "ax.set_zlabel('z')\n",
    "# Punto de vista do observador: elevación, ángulo azimutal\n",
    "ax.view_init(elev=10, azim=-100)\n",
    "ax.auto_scale_xyz([-2,2],[-2,2],[-5,10])\n",
    "plt.show()"
   ]
  },
  {
   "cell_type": "markdown",
   "metadata": {},
   "source": [
    "### **Exercicio 7.4** \n",
    "Calcula e representa graficamente o plano tanxente e a recta normal da gráfica da función $x^2+y^2+z^2=1$ no punto $(x_0,y_0,z_0)=(1,1,1)/\\sqrt{3}$."
   ]
  },
  {
   "cell_type": "code",
   "execution_count": 18,
   "metadata": {},
   "outputs": [],
   "source": [
    "# O TEU CÓDIGO AQUÍ"
   ]
  }
 ],
 "metadata": {
  "kernelspec": {
   "display_name": "Python 3.6",
   "language": "python",
   "name": "python36"
  },
  "language_info": {
   "codemirror_mode": {
    "name": "ipython",
    "version": 3
   },
   "file_extension": ".py",
   "mimetype": "text/x-python",
   "name": "python",
   "nbconvert_exporter": "python",
   "pygments_lexer": "ipython3",
   "version": "3.6.6"
  }
 },
 "nbformat": 4,
 "nbformat_minor": 2
}
